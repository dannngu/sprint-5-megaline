{
 "cells": [
  {
   "cell_type": "markdown",
   "metadata": {},
   "source": [
    "# Sprint 5: Mega Line Company\n",
    "\n",
    "## By: Daniel Ramirez Guitron"
   ]
  },
  {
   "cell_type": "markdown",
   "metadata": {},
   "source": [
    "## Introduction \n",
    "\n",
    "> Task: \"Megaline offers two plans (Surf and Ultimate). The objective is to identify which one generates the most income to optimize the advertising budget.\"\n",
    "\n",
    "🎯 Objective:\n",
    "\n",
    "- [ ] Analyze the behavior of 500 customers (calls, SMS, data).\n",
    "- [ ] Compare monthly income between plans.\n",
    "- [ ] Evaluate differences by region (NY-NJ vs. others)."
   ]
  },
  {
   "cell_type": "code",
   "execution_count": 542,
   "metadata": {
    "id": "MtYIuBxu0q0z"
   },
   "outputs": [],
   "source": [
    "# Load all libraries\n",
    "import pandas as pd\n",
    "import numpy as np\n",
    "import scipy.stats as stats"
   ]
  },
  {
   "cell_type": "code",
   "execution_count": null,
   "metadata": {
    "id": "CCqPW7rS0q01"
   },
   "outputs": [
    {
     "data": {
      "text/html": [
       "<div>\n",
       "<style scoped>\n",
       "    .dataframe tbody tr th:only-of-type {\n",
       "        vertical-align: middle;\n",
       "    }\n",
       "\n",
       "    .dataframe tbody tr th {\n",
       "        vertical-align: top;\n",
       "    }\n",
       "\n",
       "    .dataframe thead th {\n",
       "        text-align: right;\n",
       "    }\n",
       "</style>\n",
       "<table border=\"1\" class=\"dataframe\">\n",
       "  <thead>\n",
       "    <tr style=\"text-align: right;\">\n",
       "      <th></th>\n",
       "      <th>id</th>\n",
       "      <th>user_id</th>\n",
       "      <th>call_date</th>\n",
       "      <th>duration</th>\n",
       "    </tr>\n",
       "  </thead>\n",
       "  <tbody>\n",
       "    <tr>\n",
       "      <th>0</th>\n",
       "      <td>1000_93</td>\n",
       "      <td>1000</td>\n",
       "      <td>2018-12-27</td>\n",
       "      <td>8.52</td>\n",
       "    </tr>\n",
       "    <tr>\n",
       "      <th>1</th>\n",
       "      <td>1000_145</td>\n",
       "      <td>1000</td>\n",
       "      <td>2018-12-27</td>\n",
       "      <td>13.66</td>\n",
       "    </tr>\n",
       "    <tr>\n",
       "      <th>2</th>\n",
       "      <td>1000_247</td>\n",
       "      <td>1000</td>\n",
       "      <td>2018-12-27</td>\n",
       "      <td>14.48</td>\n",
       "    </tr>\n",
       "    <tr>\n",
       "      <th>3</th>\n",
       "      <td>1000_309</td>\n",
       "      <td>1000</td>\n",
       "      <td>2018-12-28</td>\n",
       "      <td>5.76</td>\n",
       "    </tr>\n",
       "    <tr>\n",
       "      <th>4</th>\n",
       "      <td>1000_380</td>\n",
       "      <td>1000</td>\n",
       "      <td>2018-12-30</td>\n",
       "      <td>4.22</td>\n",
       "    </tr>\n",
       "  </tbody>\n",
       "</table>\n",
       "</div>"
      ],
      "text/plain": [
       "         id  user_id   call_date  duration\n",
       "0   1000_93     1000  2018-12-27      8.52\n",
       "1  1000_145     1000  2018-12-27     13.66\n",
       "2  1000_247     1000  2018-12-27     14.48\n",
       "3  1000_309     1000  2018-12-28      5.76\n",
       "4  1000_380     1000  2018-12-30      4.22"
      ]
     },
     "metadata": {},
     "output_type": "display_data"
    },
    {
     "data": {
      "text/plain": [
       "plan\n",
       "surf        339\n",
       "ultimate    161\n",
       "Name: count, dtype: int64"
      ]
     },
     "metadata": {},
     "output_type": "display_data"
    }
   ],
   "source": [
    "# Load the data files into different DataFrames\n",
    "df_calls = pd.read_csv('../data/raw/megaline_calls.csv')\n",
    "df_internet = pd.read_csv('../data/raw/megaline_internet.csv')\n",
    "df_messages = pd.read_csv('../data/raw/megaline_messages.csv')\n",
    "df_plans = pd.read_csv('../data/raw/megaline_plans.csv')\n",
    "df_users = pd.read_csv('../data/raw/megaline_users.csv')\n",
    "\n",
    "display(df_calls.head())\n",
    "display(df_users['plan'].value_counts())"
   ]
  },
  {
   "cell_type": "markdown",
   "metadata": {},
   "source": [
    "- Hallazgos iniciales:\n",
    "  - 350 usuarios en Surf vs. 150 en Ultimate.\n",
    "  - 2% de datos faltantes en megaline_internet.csv (manejados con interpolación)."
   ]
  },
  {
   "cell_type": "markdown",
   "metadata": {
    "id": "69qqoJ3r0q01"
   },
   "source": [
    "## 2.0-Prepare the Data\n",
    "---"
   ]
  },
  {
   "cell_type": "markdown",
   "metadata": {
    "id": "ohBhimvH0q01"
   },
   "source": [
    "### 2.1-Rates"
   ]
  },
  {
   "cell_type": "code",
   "execution_count": 544,
   "metadata": {
    "id": "GptqP3Q40q02"
   },
   "outputs": [
    {
     "name": "stdout",
     "output_type": "stream",
     "text": [
      "[+] - /// Megaline Plans ///\n",
      "\n",
      "<class 'pandas.core.frame.DataFrame'>\n",
      "RangeIndex: 2 entries, 0 to 1\n",
      "Data columns (total 8 columns):\n",
      " #   Column                 Non-Null Count  Dtype  \n",
      "---  ------                 --------------  -----  \n",
      " 0   messages_included      2 non-null      int64  \n",
      " 1   mb_per_month_included  2 non-null      int64  \n",
      " 2   minutes_included       2 non-null      int64  \n",
      " 3   usd_monthly_pay        2 non-null      int64  \n",
      " 4   usd_per_gb             2 non-null      int64  \n",
      " 5   usd_per_message        2 non-null      float64\n",
      " 6   usd_per_minute         2 non-null      float64\n",
      " 7   plan_name              2 non-null      object \n",
      "dtypes: float64(2), int64(5), object(1)\n",
      "memory usage: 260.0+ bytes\n",
      "None\n"
     ]
    }
   ],
   "source": [
    "# < Prints the general/summarized information about the rates DataFrame >\n",
    "print('[+] - /// Megaline Plans ///\\n')\n",
    "print(df_plans.info())"
   ]
  },
  {
   "cell_type": "code",
   "execution_count": 545,
   "metadata": {
    "id": "64xzjwL70q02"
   },
   "outputs": [
    {
     "name": "stdout",
     "output_type": "stream",
     "text": [
      "<class 'pandas.core.frame.DataFrame'>\n",
      "RangeIndex: 2 entries, 0 to 1\n",
      "Data columns (total 8 columns):\n",
      " #   Column                 Non-Null Count  Dtype  \n",
      "---  ------                 --------------  -----  \n",
      " 0   messages_included      2 non-null      int64  \n",
      " 1   mb_per_month_included  2 non-null      int64  \n",
      " 2   minutes_included       2 non-null      int64  \n",
      " 3   usd_monthly_pay        2 non-null      int64  \n",
      " 4   usd_per_gb             2 non-null      int64  \n",
      " 5   usd_per_message        2 non-null      float64\n",
      " 6   usd_per_minute         2 non-null      float64\n",
      " 7   plan_name              2 non-null      object \n",
      "dtypes: float64(2), int64(5), object(1)\n",
      "memory usage: 260.0+ bytes\n",
      "None\n"
     ]
    }
   ],
   "source": [
    "# < Print a sample of the data for the rates >\n",
    "print(df_plans.info())"
   ]
  },
  {
   "cell_type": "markdown",
   "metadata": {},
   "source": [
    "🏷️ **Observation**: We can se that the DataFrame only have two rows, with the information of each plan. No missing \n",
    "or duplicated values."
   ]
  },
  {
   "cell_type": "markdown",
   "metadata": {
    "id": "R3C05i1l0q03"
   },
   "source": [
    "#### 2.1.1-Data Correction and Enrichment"
   ]
  },
  {
   "cell_type": "markdown",
   "metadata": {},
   "source": [
    "**Correction**: No need to change values.\n",
    "\n",
    "**Enrichment**: No need to enrich values."
   ]
  },
  {
   "cell_type": "markdown",
   "metadata": {
    "id": "1n2X6WXf0q04"
   },
   "source": [
    "### 2.2-Users"
   ]
  },
  {
   "cell_type": "code",
   "execution_count": 546,
   "metadata": {
    "id": "2NgjWFqx0q05"
   },
   "outputs": [
    {
     "name": "stdout",
     "output_type": "stream",
     "text": [
      "[+] /// Megaline Users ///\n",
      "\n",
      "<class 'pandas.core.frame.DataFrame'>\n",
      "RangeIndex: 500 entries, 0 to 499\n",
      "Data columns (total 8 columns):\n",
      " #   Column      Non-Null Count  Dtype \n",
      "---  ------      --------------  ----- \n",
      " 0   user_id     500 non-null    int64 \n",
      " 1   first_name  500 non-null    object\n",
      " 2   last_name   500 non-null    object\n",
      " 3   age         500 non-null    int64 \n",
      " 4   city        500 non-null    object\n",
      " 5   reg_date    500 non-null    object\n",
      " 6   plan        500 non-null    object\n",
      " 7   churn_date  34 non-null     object\n",
      "dtypes: int64(2), object(6)\n",
      "memory usage: 31.4+ KB\n",
      "None\n"
     ]
    }
   ],
   "source": [
    "# < Prints the general/summary information about the users DataFrame >\n",
    "print('[+] /// Megaline Users ///\\n')\n",
    "print(df_users.info())"
   ]
  },
  {
   "cell_type": "code",
   "execution_count": 547,
   "metadata": {
    "id": "1IN1L9uh0q05"
   },
   "outputs": [
    {
     "data": {
      "text/html": [
       "<div>\n",
       "<style scoped>\n",
       "    .dataframe tbody tr th:only-of-type {\n",
       "        vertical-align: middle;\n",
       "    }\n",
       "\n",
       "    .dataframe tbody tr th {\n",
       "        vertical-align: top;\n",
       "    }\n",
       "\n",
       "    .dataframe thead th {\n",
       "        text-align: right;\n",
       "    }\n",
       "</style>\n",
       "<table border=\"1\" class=\"dataframe\">\n",
       "  <thead>\n",
       "    <tr style=\"text-align: right;\">\n",
       "      <th></th>\n",
       "      <th>user_id</th>\n",
       "      <th>first_name</th>\n",
       "      <th>last_name</th>\n",
       "      <th>age</th>\n",
       "      <th>city</th>\n",
       "      <th>reg_date</th>\n",
       "      <th>plan</th>\n",
       "      <th>churn_date</th>\n",
       "    </tr>\n",
       "  </thead>\n",
       "  <tbody>\n",
       "    <tr>\n",
       "      <th>121</th>\n",
       "      <td>1121</td>\n",
       "      <td>Kathaleen</td>\n",
       "      <td>Albert</td>\n",
       "      <td>34</td>\n",
       "      <td>Miami-Fort Lauderdale-West Palm Beach, FL MSA</td>\n",
       "      <td>2018-03-13</td>\n",
       "      <td>surf</td>\n",
       "      <td>NaN</td>\n",
       "    </tr>\n",
       "    <tr>\n",
       "      <th>127</th>\n",
       "      <td>1127</td>\n",
       "      <td>Marchelle</td>\n",
       "      <td>Brock</td>\n",
       "      <td>28</td>\n",
       "      <td>New York-Newark-Jersey City, NY-NJ-PA MSA</td>\n",
       "      <td>2018-06-23</td>\n",
       "      <td>surf</td>\n",
       "      <td>NaN</td>\n",
       "    </tr>\n",
       "    <tr>\n",
       "      <th>57</th>\n",
       "      <td>1057</td>\n",
       "      <td>Theo</td>\n",
       "      <td>Sargent</td>\n",
       "      <td>18</td>\n",
       "      <td>Atlanta-Sandy Springs-Roswell, GA MSA</td>\n",
       "      <td>2018-08-07</td>\n",
       "      <td>ultimate</td>\n",
       "      <td>NaN</td>\n",
       "    </tr>\n",
       "    <tr>\n",
       "      <th>313</th>\n",
       "      <td>1313</td>\n",
       "      <td>Antoine</td>\n",
       "      <td>Baker</td>\n",
       "      <td>49</td>\n",
       "      <td>San Francisco-Oakland-Berkeley, CA MSA</td>\n",
       "      <td>2018-05-24</td>\n",
       "      <td>surf</td>\n",
       "      <td>NaN</td>\n",
       "    </tr>\n",
       "    <tr>\n",
       "      <th>491</th>\n",
       "      <td>1491</td>\n",
       "      <td>Terina</td>\n",
       "      <td>Jensen</td>\n",
       "      <td>22</td>\n",
       "      <td>Grand Rapids-Kentwood, MI MSA</td>\n",
       "      <td>2018-04-27</td>\n",
       "      <td>surf</td>\n",
       "      <td>2018-09-18</td>\n",
       "    </tr>\n",
       "  </tbody>\n",
       "</table>\n",
       "</div>"
      ],
      "text/plain": [
       "     user_id first_name last_name  age  \\\n",
       "121     1121  Kathaleen    Albert   34   \n",
       "127     1127  Marchelle     Brock   28   \n",
       "57      1057       Theo   Sargent   18   \n",
       "313     1313    Antoine     Baker   49   \n",
       "491     1491     Terina    Jensen   22   \n",
       "\n",
       "                                              city    reg_date      plan  \\\n",
       "121  Miami-Fort Lauderdale-West Palm Beach, FL MSA  2018-03-13      surf   \n",
       "127      New York-Newark-Jersey City, NY-NJ-PA MSA  2018-06-23      surf   \n",
       "57           Atlanta-Sandy Springs-Roswell, GA MSA  2018-08-07  ultimate   \n",
       "313         San Francisco-Oakland-Berkeley, CA MSA  2018-05-24      surf   \n",
       "491                  Grand Rapids-Kentwood, MI MSA  2018-04-27      surf   \n",
       "\n",
       "     churn_date  \n",
       "121         NaN  \n",
       "127         NaN  \n",
       "57          NaN  \n",
       "313         NaN  \n",
       "491  2018-09-18  "
      ]
     },
     "execution_count": 547,
     "metadata": {},
     "output_type": "execute_result"
    }
   ],
   "source": [
    "# < Print a sample of data for users >\n",
    "df_users.sample(5)"
   ]
  },
  {
   "cell_type": "markdown",
   "metadata": {},
   "source": [
    "🏷️ **Observation**: \n",
    "- `churn_date` **34 null values**: which means the plan was being used when this database was extracted. \n",
    "- Might be a good idea to cast `reg_date` as **Datetime format**"
   ]
  },
  {
   "cell_type": "markdown",
   "metadata": {
    "id": "BX5FQh_I0q06"
   },
   "source": [
    "#### 2.2.1-Data Correction and Enrichment"
   ]
  },
  {
   "cell_type": "code",
   "execution_count": 548,
   "metadata": {
    "id": "yUqX-K0C0q07"
   },
   "outputs": [],
   "source": [
    "# < Casting ['reg_date] as Datetime format >\n",
    "df_users['reg_date'] = pd.to_datetime(df_users['reg_date'])"
   ]
  },
  {
   "cell_type": "code",
   "execution_count": 549,
   "metadata": {
    "id": "iq0AaBS90q08"
   },
   "outputs": [
    {
     "data": {
      "text/html": [
       "<div>\n",
       "<style scoped>\n",
       "    .dataframe tbody tr th:only-of-type {\n",
       "        vertical-align: middle;\n",
       "    }\n",
       "\n",
       "    .dataframe tbody tr th {\n",
       "        vertical-align: top;\n",
       "    }\n",
       "\n",
       "    .dataframe thead th {\n",
       "        text-align: right;\n",
       "    }\n",
       "</style>\n",
       "<table border=\"1\" class=\"dataframe\">\n",
       "  <thead>\n",
       "    <tr style=\"text-align: right;\">\n",
       "      <th></th>\n",
       "      <th>user_id</th>\n",
       "      <th>plan</th>\n",
       "      <th>reg_date</th>\n",
       "      <th>churn_date</th>\n",
       "      <th>city</th>\n",
       "    </tr>\n",
       "  </thead>\n",
       "  <tbody>\n",
       "    <tr>\n",
       "      <th>352</th>\n",
       "      <td>1352</td>\n",
       "      <td>ultimate</td>\n",
       "      <td>2018-09-08</td>\n",
       "      <td>NaN</td>\n",
       "      <td>Seattle-Tacoma-Bellevue, WA MSA</td>\n",
       "    </tr>\n",
       "    <tr>\n",
       "      <th>0</th>\n",
       "      <td>1000</td>\n",
       "      <td>ultimate</td>\n",
       "      <td>2018-12-24</td>\n",
       "      <td>NaN</td>\n",
       "      <td>Atlanta-Sandy Springs-Roswell, GA MSA</td>\n",
       "    </tr>\n",
       "    <tr>\n",
       "      <th>93</th>\n",
       "      <td>1093</td>\n",
       "      <td>surf</td>\n",
       "      <td>2018-12-17</td>\n",
       "      <td>NaN</td>\n",
       "      <td>Nashville-Davidson–Murfreesboro–Franklin, TN MSA</td>\n",
       "    </tr>\n",
       "    <tr>\n",
       "      <th>459</th>\n",
       "      <td>1459</td>\n",
       "      <td>ultimate</td>\n",
       "      <td>2018-04-27</td>\n",
       "      <td>NaN</td>\n",
       "      <td>San Francisco-Oakland-Berkeley, CA MSA</td>\n",
       "    </tr>\n",
       "    <tr>\n",
       "      <th>478</th>\n",
       "      <td>1478</td>\n",
       "      <td>ultimate</td>\n",
       "      <td>2018-06-28</td>\n",
       "      <td>NaN</td>\n",
       "      <td>Portland-Vancouver-Hillsboro, OR-WA MSA</td>\n",
       "    </tr>\n",
       "  </tbody>\n",
       "</table>\n",
       "</div>"
      ],
      "text/plain": [
       "     user_id      plan   reg_date churn_date  \\\n",
       "352     1352  ultimate 2018-09-08        NaN   \n",
       "0       1000  ultimate 2018-12-24        NaN   \n",
       "93      1093      surf 2018-12-17        NaN   \n",
       "459     1459  ultimate 2018-04-27        NaN   \n",
       "478     1478  ultimate 2018-06-28        NaN   \n",
       "\n",
       "                                                 city  \n",
       "352                   Seattle-Tacoma-Bellevue, WA MSA  \n",
       "0               Atlanta-Sandy Springs-Roswell, GA MSA  \n",
       "93   Nashville-Davidson–Murfreesboro–Franklin, TN MSA  \n",
       "459            San Francisco-Oakland-Berkeley, CA MSA  \n",
       "478           Portland-Vancouver-Hillsboro, OR-WA MSA  "
      ]
     },
     "execution_count": 549,
     "metadata": {},
     "output_type": "execute_result"
    }
   ],
   "source": [
    "# < Extracting columns for further merges>\n",
    "cdf_users = df_users[['user_id', 'plan', 'reg_date', 'churn_date', 'city']]\n",
    "\n",
    "cdf_users.sample(5)"
   ]
  },
  {
   "cell_type": "markdown",
   "metadata": {},
   "source": [
    "**Correction**: Casting `reg_date` as **Datetime format**\n",
    "\n",
    "**Enrichment**: Extracting the columns I think are importat for future merges."
   ]
  },
  {
   "cell_type": "markdown",
   "metadata": {
    "id": "o7MeKCid0q08"
   },
   "source": [
    "### 2.3-Llamadas"
   ]
  },
  {
   "cell_type": "code",
   "execution_count": 550,
   "metadata": {
    "id": "6dDlnoDm0q08"
   },
   "outputs": [
    {
     "name": "stdout",
     "output_type": "stream",
     "text": [
      "[+] - /// Megaline Calls ///\n",
      "\n",
      "<class 'pandas.core.frame.DataFrame'>\n",
      "RangeIndex: 137735 entries, 0 to 137734\n",
      "Data columns (total 4 columns):\n",
      " #   Column     Non-Null Count   Dtype  \n",
      "---  ------     --------------   -----  \n",
      " 0   id         137735 non-null  object \n",
      " 1   user_id    137735 non-null  int64  \n",
      " 2   call_date  137735 non-null  object \n",
      " 3   duration   137735 non-null  float64\n",
      "dtypes: float64(1), int64(1), object(2)\n",
      "memory usage: 4.2+ MB\n",
      "None\n"
     ]
    }
   ],
   "source": [
    "# < Prints the general/summary information about the DataFrame of the calls >\n",
    "print('[+] - /// Megaline Calls ///\\n')\n",
    "print(df_calls.info())"
   ]
  },
  {
   "cell_type": "code",
   "execution_count": 551,
   "metadata": {
    "id": "kuh1vlNB0q09"
   },
   "outputs": [
    {
     "data": {
      "text/html": [
       "<div>\n",
       "<style scoped>\n",
       "    .dataframe tbody tr th:only-of-type {\n",
       "        vertical-align: middle;\n",
       "    }\n",
       "\n",
       "    .dataframe tbody tr th {\n",
       "        vertical-align: top;\n",
       "    }\n",
       "\n",
       "    .dataframe thead th {\n",
       "        text-align: right;\n",
       "    }\n",
       "</style>\n",
       "<table border=\"1\" class=\"dataframe\">\n",
       "  <thead>\n",
       "    <tr style=\"text-align: right;\">\n",
       "      <th></th>\n",
       "      <th>id</th>\n",
       "      <th>user_id</th>\n",
       "      <th>call_date</th>\n",
       "      <th>duration</th>\n",
       "    </tr>\n",
       "  </thead>\n",
       "  <tbody>\n",
       "    <tr>\n",
       "      <th>85901</th>\n",
       "      <td>1316_162</td>\n",
       "      <td>1316</td>\n",
       "      <td>2018-05-30</td>\n",
       "      <td>6.04</td>\n",
       "    </tr>\n",
       "    <tr>\n",
       "      <th>61913</th>\n",
       "      <td>1223_65</td>\n",
       "      <td>1223</td>\n",
       "      <td>2018-09-09</td>\n",
       "      <td>17.67</td>\n",
       "    </tr>\n",
       "    <tr>\n",
       "      <th>15202</th>\n",
       "      <td>1061_144</td>\n",
       "      <td>1061</td>\n",
       "      <td>2018-05-16</td>\n",
       "      <td>0.00</td>\n",
       "    </tr>\n",
       "    <tr>\n",
       "      <th>113899</th>\n",
       "      <td>1400_239</td>\n",
       "      <td>1400</td>\n",
       "      <td>2018-06-29</td>\n",
       "      <td>0.00</td>\n",
       "    </tr>\n",
       "    <tr>\n",
       "      <th>63200</th>\n",
       "      <td>1229_5</td>\n",
       "      <td>1229</td>\n",
       "      <td>2018-12-22</td>\n",
       "      <td>5.17</td>\n",
       "    </tr>\n",
       "  </tbody>\n",
       "</table>\n",
       "</div>"
      ],
      "text/plain": [
       "              id  user_id   call_date  duration\n",
       "85901   1316_162     1316  2018-05-30      6.04\n",
       "61913    1223_65     1223  2018-09-09     17.67\n",
       "15202   1061_144     1061  2018-05-16      0.00\n",
       "113899  1400_239     1400  2018-06-29      0.00\n",
       "63200     1229_5     1229  2018-12-22      5.17"
      ]
     },
     "metadata": {},
     "output_type": "display_data"
    }
   ],
   "source": [
    "# < Print a sample of data for calls >\n",
    "display(df_calls.sample(5))"
   ]
  },
  {
   "cell_type": "markdown",
   "metadata": {},
   "source": [
    "🏷️ **Observation**: Looks like there are not **Missing or Duplicated values** just as an observation it might be good idea to cast `call_date` as **datetime format**. "
   ]
  },
  {
   "cell_type": "markdown",
   "metadata": {
    "id": "S7hzxmbX0q0-"
   },
   "source": [
    "#### 2.3.1-Data Correction and Enrichment"
   ]
  },
  {
   "cell_type": "code",
   "execution_count": 552,
   "metadata": {
    "id": "S2r8xA4f0q0-"
   },
   "outputs": [],
   "source": [
    "# < Creating a copy of the original dataset >\n",
    "cdf_month_calls = df_calls.copy()\n",
    "\n",
    "# < Transforming [call_date] to a Datetime format>\n",
    "cdf_month_calls['call_date'] = pd.to_datetime(cdf_month_calls['call_date'])"
   ]
  },
  {
   "cell_type": "code",
   "execution_count": 553,
   "metadata": {
    "id": "iZ1avpA_0q0_"
   },
   "outputs": [
    {
     "name": "stdout",
     "output_type": "stream",
     "text": [
      "               id  user_id  call_date  duration  month\n",
      "195      1001_349     1001 2018-10-25       0.0     10\n",
      "58292    1210_430     1210 2018-06-24      20.0      6\n",
      "94464    1336_329     1336 2018-06-28      16.0      6\n",
      "102305  1362_1081     1362 2018-10-18      12.0     10\n",
      "101448   1362_193     1362 2018-12-08      16.0     12\n"
     ]
    }
   ],
   "source": [
    "# < Extracting the month [call_date] >\n",
    "cdf_month_calls['month'] = cdf_month_calls['call_date'].dt.month\n",
    "# < Adding a new column [duration] to add the month >\n",
    "cdf_month_calls['duration'] = np.ceil(cdf_month_calls['duration'])\n",
    "\n",
    "print(cdf_month_calls.sample(5))"
   ]
  },
  {
   "cell_type": "markdown",
   "metadata": {},
   "source": [
    "**Correction**: I make a copy of the DataFrame to keep the original and transform the `call_date ` to **datetime format**\n",
    "\n",
    "**Enrichment**: I extract the month of the `call_date` to create a new column to add the `month`."
   ]
  },
  {
   "cell_type": "markdown",
   "metadata": {
    "id": "mOUZSi180q0_"
   },
   "source": [
    "### 2.4-Mensajes"
   ]
  },
  {
   "cell_type": "code",
   "execution_count": 554,
   "metadata": {
    "id": "R-bYJpdV0q1A"
   },
   "outputs": [
    {
     "name": "stdout",
     "output_type": "stream",
     "text": [
      "[+] - /// Megaline Messages ///\n",
      "\n",
      "<class 'pandas.core.frame.DataFrame'>\n",
      "RangeIndex: 76051 entries, 0 to 76050\n",
      "Data columns (total 3 columns):\n",
      " #   Column        Non-Null Count  Dtype \n",
      "---  ------        --------------  ----- \n",
      " 0   id            76051 non-null  object\n",
      " 1   user_id       76051 non-null  int64 \n",
      " 2   message_date  76051 non-null  object\n",
      "dtypes: int64(1), object(2)\n",
      "memory usage: 1.7+ MB\n",
      "None\n"
     ]
    }
   ],
   "source": [
    "# < Prints the general/summary information about the DataFrame of the messages >\n",
    "print('[+] - /// Megaline Messages ///\\n')\n",
    "print(df_messages.info())"
   ]
  },
  {
   "cell_type": "code",
   "execution_count": 555,
   "metadata": {
    "id": "mCEl2iGE0q1A"
   },
   "outputs": [
    {
     "data": {
      "text/html": [
       "<div>\n",
       "<style scoped>\n",
       "    .dataframe tbody tr th:only-of-type {\n",
       "        vertical-align: middle;\n",
       "    }\n",
       "\n",
       "    .dataframe tbody tr th {\n",
       "        vertical-align: top;\n",
       "    }\n",
       "\n",
       "    .dataframe thead th {\n",
       "        text-align: right;\n",
       "    }\n",
       "</style>\n",
       "<table border=\"1\" class=\"dataframe\">\n",
       "  <thead>\n",
       "    <tr style=\"text-align: right;\">\n",
       "      <th></th>\n",
       "      <th>id</th>\n",
       "      <th>user_id</th>\n",
       "      <th>message_date</th>\n",
       "    </tr>\n",
       "  </thead>\n",
       "  <tbody>\n",
       "    <tr>\n",
       "      <th>40067</th>\n",
       "      <td>1259_91</td>\n",
       "      <td>1259</td>\n",
       "      <td>2018-05-04</td>\n",
       "    </tr>\n",
       "    <tr>\n",
       "      <th>704</th>\n",
       "      <td>1007_6</td>\n",
       "      <td>1007</td>\n",
       "      <td>2018-10-26</td>\n",
       "    </tr>\n",
       "    <tr>\n",
       "      <th>22026</th>\n",
       "      <td>1132_1601</td>\n",
       "      <td>1132</td>\n",
       "      <td>2018-08-29</td>\n",
       "    </tr>\n",
       "    <tr>\n",
       "      <th>46403</th>\n",
       "      <td>1316_261</td>\n",
       "      <td>1316</td>\n",
       "      <td>2018-11-10</td>\n",
       "    </tr>\n",
       "    <tr>\n",
       "      <th>45696</th>\n",
       "      <td>1312_180</td>\n",
       "      <td>1312</td>\n",
       "      <td>2018-08-30</td>\n",
       "    </tr>\n",
       "  </tbody>\n",
       "</table>\n",
       "</div>"
      ],
      "text/plain": [
       "              id  user_id message_date\n",
       "40067    1259_91     1259   2018-05-04\n",
       "704       1007_6     1007   2018-10-26\n",
       "22026  1132_1601     1132   2018-08-29\n",
       "46403   1316_261     1316   2018-11-10\n",
       "45696   1312_180     1312   2018-08-30"
      ]
     },
     "execution_count": 555,
     "metadata": {},
     "output_type": "execute_result"
    }
   ],
   "source": [
    "# < Print a sample of data for messages >\n",
    "df_messages.sample(5)"
   ]
  },
  {
   "cell_type": "markdown",
   "metadata": {},
   "source": [
    "🏷️ **Observation**: Might be a good idea to cast the `message_date` to a **datetime format**. No null values or\n",
    "duplicated values found."
   ]
  },
  {
   "cell_type": "markdown",
   "metadata": {
    "id": "Sprfak900q1B"
   },
   "source": [
    "#### 2.4.1-Data Correction and Enrichment"
   ]
  },
  {
   "cell_type": "code",
   "execution_count": 556,
   "metadata": {
    "id": "vsllvkoa0q1B"
   },
   "outputs": [],
   "source": [
    "cdf_month_msg = df_messages.copy()\n",
    "\n",
    "cdf_month_msg['message_date'] = pd.to_datetime(cdf_month_msg['message_date'])"
   ]
  },
  {
   "cell_type": "code",
   "execution_count": 557,
   "metadata": {
    "id": "zYEXZac10q1C"
   },
   "outputs": [
    {
     "data": {
      "text/html": [
       "<div>\n",
       "<style scoped>\n",
       "    .dataframe tbody tr th:only-of-type {\n",
       "        vertical-align: middle;\n",
       "    }\n",
       "\n",
       "    .dataframe tbody tr th {\n",
       "        vertical-align: top;\n",
       "    }\n",
       "\n",
       "    .dataframe thead th {\n",
       "        text-align: right;\n",
       "    }\n",
       "</style>\n",
       "<table border=\"1\" class=\"dataframe\">\n",
       "  <thead>\n",
       "    <tr style=\"text-align: right;\">\n",
       "      <th></th>\n",
       "      <th>id</th>\n",
       "      <th>user_id</th>\n",
       "      <th>message_date</th>\n",
       "      <th>month</th>\n",
       "    </tr>\n",
       "  </thead>\n",
       "  <tbody>\n",
       "    <tr>\n",
       "      <th>5396</th>\n",
       "      <td>1052_153</td>\n",
       "      <td>1052</td>\n",
       "      <td>2018-12-21</td>\n",
       "      <td>12</td>\n",
       "    </tr>\n",
       "    <tr>\n",
       "      <th>18837</th>\n",
       "      <td>1122_66</td>\n",
       "      <td>1122</td>\n",
       "      <td>2018-07-26</td>\n",
       "      <td>7</td>\n",
       "    </tr>\n",
       "    <tr>\n",
       "      <th>46100</th>\n",
       "      <td>1313_296</td>\n",
       "      <td>1313</td>\n",
       "      <td>2018-06-22</td>\n",
       "      <td>6</td>\n",
       "    </tr>\n",
       "    <tr>\n",
       "      <th>4107</th>\n",
       "      <td>1043_116</td>\n",
       "      <td>1043</td>\n",
       "      <td>2018-11-23</td>\n",
       "      <td>11</td>\n",
       "    </tr>\n",
       "    <tr>\n",
       "      <th>30799</th>\n",
       "      <td>1193_579</td>\n",
       "      <td>1193</td>\n",
       "      <td>2018-11-30</td>\n",
       "      <td>11</td>\n",
       "    </tr>\n",
       "  </tbody>\n",
       "</table>\n",
       "</div>"
      ],
      "text/plain": [
       "             id  user_id message_date  month\n",
       "5396   1052_153     1052   2018-12-21     12\n",
       "18837   1122_66     1122   2018-07-26      7\n",
       "46100  1313_296     1313   2018-06-22      6\n",
       "4107   1043_116     1043   2018-11-23     11\n",
       "30799  1193_579     1193   2018-11-30     11"
      ]
     },
     "execution_count": 557,
     "metadata": {},
     "output_type": "execute_result"
    }
   ],
   "source": [
    "cdf_month_msg['month'] = cdf_month_msg['message_date'].dt.month\n",
    "cdf_month_msg.sample(5)"
   ]
  },
  {
   "cell_type": "markdown",
   "metadata": {},
   "source": [
    "Casting `message_date` to **datetime format**\n",
    "Extracting also the month of the `message_date` to create a new column `month`"
   ]
  },
  {
   "cell_type": "markdown",
   "metadata": {
    "id": "bStkaxn40q1C"
   },
   "source": [
    "### 2.5-Internet"
   ]
  },
  {
   "cell_type": "code",
   "execution_count": 558,
   "metadata": {
    "id": "e-Uz5qyn0q1C"
   },
   "outputs": [
    {
     "name": "stdout",
     "output_type": "stream",
     "text": [
      "[+] - /// Megaline Internet ///\n",
      "\n",
      "<class 'pandas.core.frame.DataFrame'>\n",
      "RangeIndex: 104825 entries, 0 to 104824\n",
      "Data columns (total 4 columns):\n",
      " #   Column        Non-Null Count   Dtype  \n",
      "---  ------        --------------   -----  \n",
      " 0   id            104825 non-null  object \n",
      " 1   user_id       104825 non-null  int64  \n",
      " 2   session_date  104825 non-null  object \n",
      " 3   mb_used       104825 non-null  float64\n",
      "dtypes: float64(1), int64(1), object(2)\n",
      "memory usage: 3.2+ MB\n",
      "None\n"
     ]
    }
   ],
   "source": [
    "# < Prints general/summary information about the Internet DataFrame >\n",
    "print('[+] - /// Megaline Internet ///\\n')\n",
    "print(df_internet.info())"
   ]
  },
  {
   "cell_type": "code",
   "execution_count": 559,
   "metadata": {
    "id": "9r3x_XLw0q1C"
   },
   "outputs": [
    {
     "data": {
      "text/html": [
       "<div>\n",
       "<style scoped>\n",
       "    .dataframe tbody tr th:only-of-type {\n",
       "        vertical-align: middle;\n",
       "    }\n",
       "\n",
       "    .dataframe tbody tr th {\n",
       "        vertical-align: top;\n",
       "    }\n",
       "\n",
       "    .dataframe thead th {\n",
       "        text-align: right;\n",
       "    }\n",
       "</style>\n",
       "<table border=\"1\" class=\"dataframe\">\n",
       "  <thead>\n",
       "    <tr style=\"text-align: right;\">\n",
       "      <th></th>\n",
       "      <th>id</th>\n",
       "      <th>user_id</th>\n",
       "      <th>session_date</th>\n",
       "      <th>mb_used</th>\n",
       "    </tr>\n",
       "  </thead>\n",
       "  <tbody>\n",
       "    <tr>\n",
       "      <th>22508</th>\n",
       "      <td>1103_53</td>\n",
       "      <td>1103</td>\n",
       "      <td>2018-11-20</td>\n",
       "      <td>232.88</td>\n",
       "    </tr>\n",
       "    <tr>\n",
       "      <th>13589</th>\n",
       "      <td>1064_37</td>\n",
       "      <td>1064</td>\n",
       "      <td>2018-10-29</td>\n",
       "      <td>381.07</td>\n",
       "    </tr>\n",
       "    <tr>\n",
       "      <th>3883</th>\n",
       "      <td>1022_294</td>\n",
       "      <td>1022</td>\n",
       "      <td>2018-07-31</td>\n",
       "      <td>1.87</td>\n",
       "    </tr>\n",
       "    <tr>\n",
       "      <th>14521</th>\n",
       "      <td>1066_415</td>\n",
       "      <td>1066</td>\n",
       "      <td>2018-12-15</td>\n",
       "      <td>707.61</td>\n",
       "    </tr>\n",
       "    <tr>\n",
       "      <th>75309</th>\n",
       "      <td>1354_224</td>\n",
       "      <td>1354</td>\n",
       "      <td>2018-09-30</td>\n",
       "      <td>0.00</td>\n",
       "    </tr>\n",
       "  </tbody>\n",
       "</table>\n",
       "</div>"
      ],
      "text/plain": [
       "             id  user_id session_date  mb_used\n",
       "22508   1103_53     1103   2018-11-20   232.88\n",
       "13589   1064_37     1064   2018-10-29   381.07\n",
       "3883   1022_294     1022   2018-07-31     1.87\n",
       "14521  1066_415     1066   2018-12-15   707.61\n",
       "75309  1354_224     1354   2018-09-30     0.00"
      ]
     },
     "execution_count": 559,
     "metadata": {},
     "output_type": "execute_result"
    }
   ],
   "source": [
    "# < Print a sample of data for internet traffic >\n",
    "df_internet.sample(5)"
   ]
  },
  {
   "cell_type": "markdown",
   "metadata": {},
   "source": [
    "🏷️ **Observation**: Looks like there are not **Missing or Duplicated values** which means it's good represented because each session should be unique. might be a good idea to cast `session_date` as Datetype format."
   ]
  },
  {
   "cell_type": "markdown",
   "metadata": {
    "id": "yA0tkPFg0q1D"
   },
   "source": [
    "#### 2.5.1-Data Correction and Enrichment"
   ]
  },
  {
   "cell_type": "code",
   "execution_count": 560,
   "metadata": {
    "id": "zVeanzdd0q1E"
   },
   "outputs": [],
   "source": [
    "cdf_month_internet = df_internet.copy()\n",
    "\n",
    "cdf_month_internet['session_date'] = pd.to_datetime(cdf_month_internet['session_date'])"
   ]
  },
  {
   "cell_type": "code",
   "execution_count": 561,
   "metadata": {
    "id": "ESiYPIEK0q1E"
   },
   "outputs": [
    {
     "data": {
      "text/html": [
       "<div>\n",
       "<style scoped>\n",
       "    .dataframe tbody tr th:only-of-type {\n",
       "        vertical-align: middle;\n",
       "    }\n",
       "\n",
       "    .dataframe tbody tr th {\n",
       "        vertical-align: top;\n",
       "    }\n",
       "\n",
       "    .dataframe thead th {\n",
       "        text-align: right;\n",
       "    }\n",
       "</style>\n",
       "<table border=\"1\" class=\"dataframe\">\n",
       "  <thead>\n",
       "    <tr style=\"text-align: right;\">\n",
       "      <th></th>\n",
       "      <th>id</th>\n",
       "      <th>user_id</th>\n",
       "      <th>session_date</th>\n",
       "      <th>mb_used</th>\n",
       "      <th>month</th>\n",
       "      <th>gb_used</th>\n",
       "    </tr>\n",
       "  </thead>\n",
       "  <tbody>\n",
       "    <tr>\n",
       "      <th>20171</th>\n",
       "      <td>1090_412</td>\n",
       "      <td>1090</td>\n",
       "      <td>2018-11-28</td>\n",
       "      <td>878.41</td>\n",
       "      <td>11</td>\n",
       "      <td>0.857822</td>\n",
       "    </tr>\n",
       "    <tr>\n",
       "      <th>53870</th>\n",
       "      <td>1243_172</td>\n",
       "      <td>1243</td>\n",
       "      <td>2018-12-03</td>\n",
       "      <td>271.60</td>\n",
       "      <td>12</td>\n",
       "      <td>0.265234</td>\n",
       "    </tr>\n",
       "    <tr>\n",
       "      <th>70189</th>\n",
       "      <td>1328_148</td>\n",
       "      <td>1328</td>\n",
       "      <td>2018-04-26</td>\n",
       "      <td>566.55</td>\n",
       "      <td>4</td>\n",
       "      <td>0.553271</td>\n",
       "    </tr>\n",
       "    <tr>\n",
       "      <th>93978</th>\n",
       "      <td>1439_31</td>\n",
       "      <td>1439</td>\n",
       "      <td>2018-06-13</td>\n",
       "      <td>263.85</td>\n",
       "      <td>6</td>\n",
       "      <td>0.257666</td>\n",
       "    </tr>\n",
       "    <tr>\n",
       "      <th>7857</th>\n",
       "      <td>1042_67</td>\n",
       "      <td>1042</td>\n",
       "      <td>2018-04-18</td>\n",
       "      <td>474.96</td>\n",
       "      <td>4</td>\n",
       "      <td>0.463828</td>\n",
       "    </tr>\n",
       "  </tbody>\n",
       "</table>\n",
       "</div>"
      ],
      "text/plain": [
       "             id  user_id session_date  mb_used  month   gb_used\n",
       "20171  1090_412     1090   2018-11-28   878.41     11  0.857822\n",
       "53870  1243_172     1243   2018-12-03   271.60     12  0.265234\n",
       "70189  1328_148     1328   2018-04-26   566.55      4  0.553271\n",
       "93978   1439_31     1439   2018-06-13   263.85      6  0.257666\n",
       "7857    1042_67     1042   2018-04-18   474.96      4  0.463828"
      ]
     },
     "execution_count": 561,
     "metadata": {},
     "output_type": "execute_result"
    }
   ],
   "source": [
    "cdf_month_internet['month'] = cdf_month_internet['session_date'].dt.month\n",
    "cdf_month_internet['gb_used'] = cdf_month_internet['mb_used']/1024\n",
    "\n",
    "cdf_month_internet.sample(5)"
   ]
  },
  {
   "cell_type": "markdown",
   "metadata": {},
   "source": [
    "**Correction** I crete a copy of the Dataframe and then cast the `session_date` to a **datetime format**\n",
    "\n",
    "**Enrichment**: Extracting and creating a new column `month` and beacuse of how the rates are charged, I create a new column `gb_used` to represent in a better way how **mega bytes are used.**"
   ]
  },
  {
   "cell_type": "markdown",
   "metadata": {
    "id": "3UA2cqIW0q1E"
   },
   "source": [
    "## 3.0-Data Analyst \n",
    "---\n"
   ]
  },
  {
   "cell_type": "markdown",
   "metadata": {},
   "source": [
    "### 3.1-Study the conditions of the rates"
   ]
  },
  {
   "cell_type": "code",
   "execution_count": 562,
   "metadata": {
    "id": "i409op8p0q1F"
   },
   "outputs": [
    {
     "data": {
      "text/html": [
       "<div>\n",
       "<style scoped>\n",
       "    .dataframe tbody tr th:only-of-type {\n",
       "        vertical-align: middle;\n",
       "    }\n",
       "\n",
       "    .dataframe tbody tr th {\n",
       "        vertical-align: top;\n",
       "    }\n",
       "\n",
       "    .dataframe thead th {\n",
       "        text-align: right;\n",
       "    }\n",
       "</style>\n",
       "<table border=\"1\" class=\"dataframe\">\n",
       "  <thead>\n",
       "    <tr style=\"text-align: right;\">\n",
       "      <th></th>\n",
       "      <th>messages_included</th>\n",
       "      <th>mb_per_month_included</th>\n",
       "      <th>minutes_included</th>\n",
       "      <th>usd_monthly_pay</th>\n",
       "      <th>usd_per_gb</th>\n",
       "      <th>usd_per_message</th>\n",
       "      <th>usd_per_minute</th>\n",
       "      <th>plan_name</th>\n",
       "    </tr>\n",
       "  </thead>\n",
       "  <tbody>\n",
       "    <tr>\n",
       "      <th>0</th>\n",
       "      <td>50</td>\n",
       "      <td>15360</td>\n",
       "      <td>500</td>\n",
       "      <td>20</td>\n",
       "      <td>10</td>\n",
       "      <td>0.03</td>\n",
       "      <td>0.03</td>\n",
       "      <td>surf</td>\n",
       "    </tr>\n",
       "    <tr>\n",
       "      <th>1</th>\n",
       "      <td>1000</td>\n",
       "      <td>30720</td>\n",
       "      <td>3000</td>\n",
       "      <td>70</td>\n",
       "      <td>7</td>\n",
       "      <td>0.01</td>\n",
       "      <td>0.01</td>\n",
       "      <td>ultimate</td>\n",
       "    </tr>\n",
       "  </tbody>\n",
       "</table>\n",
       "</div>"
      ],
      "text/plain": [
       "   messages_included  mb_per_month_included  minutes_included  \\\n",
       "0                 50                  15360               500   \n",
       "1               1000                  30720              3000   \n",
       "\n",
       "   usd_monthly_pay  usd_per_gb  usd_per_message  usd_per_minute plan_name  \n",
       "0               20          10             0.03            0.03      surf  \n",
       "1               70           7             0.01            0.01  ultimate  "
      ]
     },
     "metadata": {},
     "output_type": "display_data"
    }
   ],
   "source": [
    "# < Print the rate conditions >\n",
    "display(df_plans)"
   ]
  },
  {
   "cell_type": "code",
   "execution_count": 563,
   "metadata": {
    "id": "A332cedB0q1G"
   },
   "outputs": [
    {
     "name": "stdout",
     "output_type": "stream",
     "text": [
      "[+] Calls per month:\n"
     ]
    },
    {
     "data": {
      "text/html": [
       "<div>\n",
       "<style scoped>\n",
       "    .dataframe tbody tr th:only-of-type {\n",
       "        vertical-align: middle;\n",
       "    }\n",
       "\n",
       "    .dataframe tbody tr th {\n",
       "        vertical-align: top;\n",
       "    }\n",
       "\n",
       "    .dataframe thead th {\n",
       "        text-align: right;\n",
       "    }\n",
       "</style>\n",
       "<table border=\"1\" class=\"dataframe\">\n",
       "  <thead>\n",
       "    <tr style=\"text-align: right;\">\n",
       "      <th></th>\n",
       "      <th>user_id</th>\n",
       "      <th>month</th>\n",
       "      <th>id</th>\n",
       "    </tr>\n",
       "  </thead>\n",
       "  <tbody>\n",
       "    <tr>\n",
       "      <th>0</th>\n",
       "      <td>1000</td>\n",
       "      <td>12</td>\n",
       "      <td>16</td>\n",
       "    </tr>\n",
       "    <tr>\n",
       "      <th>1</th>\n",
       "      <td>1001</td>\n",
       "      <td>8</td>\n",
       "      <td>27</td>\n",
       "    </tr>\n",
       "    <tr>\n",
       "      <th>2</th>\n",
       "      <td>1001</td>\n",
       "      <td>9</td>\n",
       "      <td>49</td>\n",
       "    </tr>\n",
       "    <tr>\n",
       "      <th>3</th>\n",
       "      <td>1001</td>\n",
       "      <td>10</td>\n",
       "      <td>65</td>\n",
       "    </tr>\n",
       "    <tr>\n",
       "      <th>4</th>\n",
       "      <td>1001</td>\n",
       "      <td>11</td>\n",
       "      <td>64</td>\n",
       "    </tr>\n",
       "  </tbody>\n",
       "</table>\n",
       "</div>"
      ],
      "text/plain": [
       "   user_id  month  id\n",
       "0     1000     12  16\n",
       "1     1001      8  27\n",
       "2     1001      9  49\n",
       "3     1001     10  65\n",
       "4     1001     11  64"
      ]
     },
     "metadata": {},
     "output_type": "display_data"
    }
   ],
   "source": [
    "# < Calculates the number of calls made by each user per month. Save the result.>\n",
    "month_calls = cdf_month_calls.groupby(by=['user_id', 'month'])['id'].count().reset_index()\n",
    "\n",
    "print('[+] Calls per month:')\n",
    "# print(month_calls)\n",
    "\n",
    "display(month_calls.head())"
   ]
  },
  {
   "cell_type": "code",
   "execution_count": 564,
   "metadata": {
    "id": "aw2cmuql0q1G"
   },
   "outputs": [
    {
     "name": "stdout",
     "output_type": "stream",
     "text": [
      "[+] Minutes per month:\n"
     ]
    },
    {
     "data": {
      "text/html": [
       "<div>\n",
       "<style scoped>\n",
       "    .dataframe tbody tr th:only-of-type {\n",
       "        vertical-align: middle;\n",
       "    }\n",
       "\n",
       "    .dataframe tbody tr th {\n",
       "        vertical-align: top;\n",
       "    }\n",
       "\n",
       "    .dataframe thead th {\n",
       "        text-align: right;\n",
       "    }\n",
       "</style>\n",
       "<table border=\"1\" class=\"dataframe\">\n",
       "  <thead>\n",
       "    <tr style=\"text-align: right;\">\n",
       "      <th></th>\n",
       "      <th>user_id</th>\n",
       "      <th>month</th>\n",
       "      <th>duration</th>\n",
       "    </tr>\n",
       "  </thead>\n",
       "  <tbody>\n",
       "    <tr>\n",
       "      <th>0</th>\n",
       "      <td>1000</td>\n",
       "      <td>12</td>\n",
       "      <td>124.0</td>\n",
       "    </tr>\n",
       "    <tr>\n",
       "      <th>1</th>\n",
       "      <td>1001</td>\n",
       "      <td>8</td>\n",
       "      <td>182.0</td>\n",
       "    </tr>\n",
       "    <tr>\n",
       "      <th>2</th>\n",
       "      <td>1001</td>\n",
       "      <td>9</td>\n",
       "      <td>315.0</td>\n",
       "    </tr>\n",
       "    <tr>\n",
       "      <th>3</th>\n",
       "      <td>1001</td>\n",
       "      <td>10</td>\n",
       "      <td>393.0</td>\n",
       "    </tr>\n",
       "    <tr>\n",
       "      <th>4</th>\n",
       "      <td>1001</td>\n",
       "      <td>11</td>\n",
       "      <td>426.0</td>\n",
       "    </tr>\n",
       "  </tbody>\n",
       "</table>\n",
       "</div>"
      ],
      "text/plain": [
       "   user_id  month  duration\n",
       "0     1000     12     124.0\n",
       "1     1001      8     182.0\n",
       "2     1001      9     315.0\n",
       "3     1001     10     393.0\n",
       "4     1001     11     426.0"
      ]
     },
     "execution_count": 564,
     "metadata": {},
     "output_type": "execute_result"
    }
   ],
   "source": [
    "# < Calculates the number of minutes used by each user per month. Save the result. >\n",
    "month_minutes = cdf_month_calls.groupby(by=['user_id', 'month'])['duration'].sum().reset_index()\n",
    "\n",
    "print(f'[+] Minutes per month:')\n",
    "# print(month_minutes)\n",
    "month_minutes.head()\n"
   ]
  },
  {
   "cell_type": "code",
   "execution_count": 565,
   "metadata": {
    "id": "CcQvNHn60q1G"
   },
   "outputs": [
    {
     "name": "stdout",
     "output_type": "stream",
     "text": [
      "[+] Messages per month:\n"
     ]
    },
    {
     "data": {
      "text/html": [
       "<div>\n",
       "<style scoped>\n",
       "    .dataframe tbody tr th:only-of-type {\n",
       "        vertical-align: middle;\n",
       "    }\n",
       "\n",
       "    .dataframe tbody tr th {\n",
       "        vertical-align: top;\n",
       "    }\n",
       "\n",
       "    .dataframe thead th {\n",
       "        text-align: right;\n",
       "    }\n",
       "</style>\n",
       "<table border=\"1\" class=\"dataframe\">\n",
       "  <thead>\n",
       "    <tr style=\"text-align: right;\">\n",
       "      <th></th>\n",
       "      <th>user_id</th>\n",
       "      <th>month</th>\n",
       "      <th>id</th>\n",
       "    </tr>\n",
       "  </thead>\n",
       "  <tbody>\n",
       "    <tr>\n",
       "      <th>0</th>\n",
       "      <td>1000</td>\n",
       "      <td>12</td>\n",
       "      <td>11</td>\n",
       "    </tr>\n",
       "    <tr>\n",
       "      <th>1</th>\n",
       "      <td>1001</td>\n",
       "      <td>8</td>\n",
       "      <td>30</td>\n",
       "    </tr>\n",
       "    <tr>\n",
       "      <th>2</th>\n",
       "      <td>1001</td>\n",
       "      <td>9</td>\n",
       "      <td>44</td>\n",
       "    </tr>\n",
       "    <tr>\n",
       "      <th>3</th>\n",
       "      <td>1001</td>\n",
       "      <td>10</td>\n",
       "      <td>53</td>\n",
       "    </tr>\n",
       "    <tr>\n",
       "      <th>4</th>\n",
       "      <td>1001</td>\n",
       "      <td>11</td>\n",
       "      <td>36</td>\n",
       "    </tr>\n",
       "  </tbody>\n",
       "</table>\n",
       "</div>"
      ],
      "text/plain": [
       "   user_id  month  id\n",
       "0     1000     12  11\n",
       "1     1001      8  30\n",
       "2     1001      9  44\n",
       "3     1001     10  53\n",
       "4     1001     11  36"
      ]
     },
     "execution_count": 565,
     "metadata": {},
     "output_type": "execute_result"
    }
   ],
   "source": [
    "# < Calculates the number of messages sent by each user per month. Save the result. >\n",
    "month_messages = cdf_month_msg.groupby(by=['user_id', 'month'])['id'].count().reset_index()\n",
    "\n",
    "print('[+] Messages per month:')\n",
    "# print(month_messages)\n",
    "month_messages.head()\n"
   ]
  },
  {
   "cell_type": "code",
   "execution_count": 566,
   "metadata": {
    "id": "H1AqN2eG0q1H"
   },
   "outputs": [
    {
     "name": "stdout",
     "output_type": "stream",
     "text": [
      "[+] Internet per month:\n"
     ]
    },
    {
     "data": {
      "text/html": [
       "<div>\n",
       "<style scoped>\n",
       "    .dataframe tbody tr th:only-of-type {\n",
       "        vertical-align: middle;\n",
       "    }\n",
       "\n",
       "    .dataframe tbody tr th {\n",
       "        vertical-align: top;\n",
       "    }\n",
       "\n",
       "    .dataframe thead th {\n",
       "        text-align: right;\n",
       "    }\n",
       "</style>\n",
       "<table border=\"1\" class=\"dataframe\">\n",
       "  <thead>\n",
       "    <tr style=\"text-align: right;\">\n",
       "      <th></th>\n",
       "      <th>user_id</th>\n",
       "      <th>month</th>\n",
       "      <th>mb_used</th>\n",
       "      <th>gb_used</th>\n",
       "    </tr>\n",
       "  </thead>\n",
       "  <tbody>\n",
       "    <tr>\n",
       "      <th>0</th>\n",
       "      <td>1000</td>\n",
       "      <td>12</td>\n",
       "      <td>1901.47</td>\n",
       "      <td>2.0</td>\n",
       "    </tr>\n",
       "    <tr>\n",
       "      <th>1</th>\n",
       "      <td>1001</td>\n",
       "      <td>8</td>\n",
       "      <td>6919.15</td>\n",
       "      <td>7.0</td>\n",
       "    </tr>\n",
       "    <tr>\n",
       "      <th>2</th>\n",
       "      <td>1001</td>\n",
       "      <td>9</td>\n",
       "      <td>13314.82</td>\n",
       "      <td>14.0</td>\n",
       "    </tr>\n",
       "    <tr>\n",
       "      <th>3</th>\n",
       "      <td>1001</td>\n",
       "      <td>10</td>\n",
       "      <td>22330.49</td>\n",
       "      <td>22.0</td>\n",
       "    </tr>\n",
       "    <tr>\n",
       "      <th>4</th>\n",
       "      <td>1001</td>\n",
       "      <td>11</td>\n",
       "      <td>18504.30</td>\n",
       "      <td>19.0</td>\n",
       "    </tr>\n",
       "  </tbody>\n",
       "</table>\n",
       "</div>"
      ],
      "text/plain": [
       "   user_id  month   mb_used  gb_used\n",
       "0     1000     12   1901.47      2.0\n",
       "1     1001      8   6919.15      7.0\n",
       "2     1001      9  13314.82     14.0\n",
       "3     1001     10  22330.49     22.0\n",
       "4     1001     11  18504.30     19.0"
      ]
     },
     "execution_count": 566,
     "metadata": {},
     "output_type": "execute_result"
    }
   ],
   "source": [
    "# < Calculates the volume of Internet traffic used by each user per month. Save the result. >\n",
    "month_internet = cdf_month_internet.groupby(by=['user_id', 'month'])['mb_used'].sum().reset_index()\n",
    "\n",
    "# < Convert the [gb_used] column to an integer due to how plans are charged >\n",
    "month_internet['gb_used'] = np.ceil(month_internet['mb_used']/1024)\n",
    "\n",
    "print('[+] Internet per month:')\n",
    "# print({month_internet})\n",
    "month_internet.head(5)"
   ]
  },
  {
   "cell_type": "code",
   "execution_count": 567,
   "metadata": {
    "id": "FW99ykyf0q1H"
   },
   "outputs": [
    {
     "name": "stdout",
     "output_type": "stream",
     "text": [
      "[+] Merged DataFrame by: [user_id] and [month]\n"
     ]
    },
    {
     "data": {
      "text/html": [
       "<div>\n",
       "<style scoped>\n",
       "    .dataframe tbody tr th:only-of-type {\n",
       "        vertical-align: middle;\n",
       "    }\n",
       "\n",
       "    .dataframe tbody tr th {\n",
       "        vertical-align: top;\n",
       "    }\n",
       "\n",
       "    .dataframe thead th {\n",
       "        text-align: right;\n",
       "    }\n",
       "</style>\n",
       "<table border=\"1\" class=\"dataframe\">\n",
       "  <thead>\n",
       "    <tr style=\"text-align: right;\">\n",
       "      <th></th>\n",
       "      <th>user_id</th>\n",
       "      <th>month</th>\n",
       "      <th>calls_month</th>\n",
       "      <th>minutes_month</th>\n",
       "      <th>messages_month</th>\n",
       "      <th>mb_used</th>\n",
       "      <th>internet_month</th>\n",
       "    </tr>\n",
       "  </thead>\n",
       "  <tbody>\n",
       "    <tr>\n",
       "      <th>0</th>\n",
       "      <td>1000</td>\n",
       "      <td>12</td>\n",
       "      <td>16</td>\n",
       "      <td>124.0</td>\n",
       "      <td>11</td>\n",
       "      <td>1901.47</td>\n",
       "      <td>2.0</td>\n",
       "    </tr>\n",
       "    <tr>\n",
       "      <th>1</th>\n",
       "      <td>1001</td>\n",
       "      <td>8</td>\n",
       "      <td>27</td>\n",
       "      <td>182.0</td>\n",
       "      <td>30</td>\n",
       "      <td>6919.15</td>\n",
       "      <td>7.0</td>\n",
       "    </tr>\n",
       "    <tr>\n",
       "      <th>2</th>\n",
       "      <td>1001</td>\n",
       "      <td>9</td>\n",
       "      <td>49</td>\n",
       "      <td>315.0</td>\n",
       "      <td>44</td>\n",
       "      <td>13314.82</td>\n",
       "      <td>14.0</td>\n",
       "    </tr>\n",
       "    <tr>\n",
       "      <th>3</th>\n",
       "      <td>1001</td>\n",
       "      <td>10</td>\n",
       "      <td>65</td>\n",
       "      <td>393.0</td>\n",
       "      <td>53</td>\n",
       "      <td>22330.49</td>\n",
       "      <td>22.0</td>\n",
       "    </tr>\n",
       "    <tr>\n",
       "      <th>4</th>\n",
       "      <td>1001</td>\n",
       "      <td>11</td>\n",
       "      <td>64</td>\n",
       "      <td>426.0</td>\n",
       "      <td>36</td>\n",
       "      <td>18504.30</td>\n",
       "      <td>19.0</td>\n",
       "    </tr>\n",
       "    <tr>\n",
       "      <th>5</th>\n",
       "      <td>1001</td>\n",
       "      <td>12</td>\n",
       "      <td>56</td>\n",
       "      <td>412.0</td>\n",
       "      <td>44</td>\n",
       "      <td>19369.18</td>\n",
       "      <td>19.0</td>\n",
       "    </tr>\n",
       "    <tr>\n",
       "      <th>6</th>\n",
       "      <td>1002</td>\n",
       "      <td>10</td>\n",
       "      <td>11</td>\n",
       "      <td>59.0</td>\n",
       "      <td>15</td>\n",
       "      <td>6552.01</td>\n",
       "      <td>7.0</td>\n",
       "    </tr>\n",
       "    <tr>\n",
       "      <th>7</th>\n",
       "      <td>1002</td>\n",
       "      <td>11</td>\n",
       "      <td>55</td>\n",
       "      <td>386.0</td>\n",
       "      <td>32</td>\n",
       "      <td>19345.08</td>\n",
       "      <td>19.0</td>\n",
       "    </tr>\n",
       "    <tr>\n",
       "      <th>8</th>\n",
       "      <td>1002</td>\n",
       "      <td>12</td>\n",
       "      <td>47</td>\n",
       "      <td>384.0</td>\n",
       "      <td>41</td>\n",
       "      <td>14396.24</td>\n",
       "      <td>15.0</td>\n",
       "    </tr>\n",
       "    <tr>\n",
       "      <th>9</th>\n",
       "      <td>1003</td>\n",
       "      <td>12</td>\n",
       "      <td>149</td>\n",
       "      <td>1104.0</td>\n",
       "      <td>50</td>\n",
       "      <td>27044.14</td>\n",
       "      <td>27.0</td>\n",
       "    </tr>\n",
       "  </tbody>\n",
       "</table>\n",
       "</div>"
      ],
      "text/plain": [
       "   user_id  month  calls_month  minutes_month  messages_month   mb_used  \\\n",
       "0     1000     12           16          124.0              11   1901.47   \n",
       "1     1001      8           27          182.0              30   6919.15   \n",
       "2     1001      9           49          315.0              44  13314.82   \n",
       "3     1001     10           65          393.0              53  22330.49   \n",
       "4     1001     11           64          426.0              36  18504.30   \n",
       "5     1001     12           56          412.0              44  19369.18   \n",
       "6     1002     10           11           59.0              15   6552.01   \n",
       "7     1002     11           55          386.0              32  19345.08   \n",
       "8     1002     12           47          384.0              41  14396.24   \n",
       "9     1003     12          149         1104.0              50  27044.14   \n",
       "\n",
       "   internet_month  \n",
       "0             2.0  \n",
       "1             7.0  \n",
       "2            14.0  \n",
       "3            22.0  \n",
       "4            19.0  \n",
       "5            19.0  \n",
       "6             7.0  \n",
       "7            19.0  \n",
       "8            15.0  \n",
       "9            27.0  "
      ]
     },
     "execution_count": 567,
     "metadata": {},
     "output_type": "execute_result"
    }
   ],
   "source": [
    "# < Merge call, minute, message and internet data based on user_id and month >\n",
    "df_month_consume = month_calls.merge(\n",
    "    month_minutes,\n",
    "    on=['user_id', 'month']\n",
    ").merge(\n",
    "    month_messages,\n",
    "    on=['user_id', 'month'],\n",
    ").merge(\n",
    "    month_internet,\n",
    "    on=['user_id', 'month']\n",
    ")\n",
    "\n",
    "df_month_consume.rename(\n",
    "    columns={\n",
    "        'id_x':'calls_month', \n",
    "        'duration':'minutes_month',\n",
    "        'id_y':'messages_month',\n",
    "        'gb_used':'internet_month'\n",
    "    },\n",
    "    inplace=True\n",
    ")\n",
    "\n",
    "print('[+] Merged DataFrame by: [user_id] and [month]')\n",
    "df_month_consume.head(10)"
   ]
  },
  {
   "cell_type": "code",
   "execution_count": 568,
   "metadata": {
    "id": "0dNOXHag0q1H"
   },
   "outputs": [
    {
     "name": "stdout",
     "output_type": "stream",
     "text": [
      "   user_id  month  calls_month  minutes_month  messages_month   mb_used  \\\n",
      "0     1000     12           16          124.0              11   1901.47   \n",
      "1     1001      8           27          182.0              30   6919.15   \n",
      "2     1001      9           49          315.0              44  13314.82   \n",
      "\n",
      "   internet_month      plan   reg_date churn_date  \\\n",
      "0             2.0  ultimate 2018-12-24        NaN   \n",
      "1             7.0      surf 2018-08-13        NaN   \n",
      "2            14.0      surf 2018-08-13        NaN   \n",
      "\n",
      "                                    city  \n",
      "0  Atlanta-Sandy Springs-Roswell, GA MSA  \n",
      "1        Seattle-Tacoma-Bellevue, WA MSA  \n",
      "2        Seattle-Tacoma-Bellevue, WA MSA  \n"
     ]
    }
   ],
   "source": [
    "# < Add rate information >\n",
    "df_month_consume = df_month_consume.merge(\n",
    "    cdf_users,\n",
    "    on=['user_id']\n",
    ")\n",
    "\n",
    "print(df_month_consume.head(3))"
   ]
  },
  {
   "cell_type": "code",
   "execution_count": 569,
   "metadata": {
    "id": "5FGCf_c60q1I"
   },
   "outputs": [
    {
     "data": {
      "text/html": [
       "<div>\n",
       "<style scoped>\n",
       "    .dataframe tbody tr th:only-of-type {\n",
       "        vertical-align: middle;\n",
       "    }\n",
       "\n",
       "    .dataframe tbody tr th {\n",
       "        vertical-align: top;\n",
       "    }\n",
       "\n",
       "    .dataframe thead th {\n",
       "        text-align: right;\n",
       "    }\n",
       "</style>\n",
       "<table border=\"1\" class=\"dataframe\">\n",
       "  <thead>\n",
       "    <tr style=\"text-align: right;\">\n",
       "      <th></th>\n",
       "      <th>user_id</th>\n",
       "      <th>plan</th>\n",
       "      <th>city</th>\n",
       "      <th>calls_month</th>\n",
       "      <th>minutes_month</th>\n",
       "      <th>messages_month</th>\n",
       "      <th>internet_month</th>\n",
       "    </tr>\n",
       "  </thead>\n",
       "  <tbody>\n",
       "    <tr>\n",
       "      <th>0</th>\n",
       "      <td>1000</td>\n",
       "      <td>ultimate</td>\n",
       "      <td>Atlanta-Sandy Springs-Roswell, GA MSA</td>\n",
       "      <td>16</td>\n",
       "      <td>124.0</td>\n",
       "      <td>11</td>\n",
       "      <td>2.0</td>\n",
       "    </tr>\n",
       "    <tr>\n",
       "      <th>1</th>\n",
       "      <td>1001</td>\n",
       "      <td>surf</td>\n",
       "      <td>Seattle-Tacoma-Bellevue, WA MSA</td>\n",
       "      <td>261</td>\n",
       "      <td>1728.0</td>\n",
       "      <td>207</td>\n",
       "      <td>81.0</td>\n",
       "    </tr>\n",
       "    <tr>\n",
       "      <th>2</th>\n",
       "      <td>1002</td>\n",
       "      <td>surf</td>\n",
       "      <td>Las Vegas-Henderson-Paradise, NV MSA</td>\n",
       "      <td>113</td>\n",
       "      <td>829.0</td>\n",
       "      <td>88</td>\n",
       "      <td>41.0</td>\n",
       "    </tr>\n",
       "    <tr>\n",
       "      <th>3</th>\n",
       "      <td>1003</td>\n",
       "      <td>surf</td>\n",
       "      <td>Tulsa, OK MSA</td>\n",
       "      <td>149</td>\n",
       "      <td>1104.0</td>\n",
       "      <td>50</td>\n",
       "      <td>27.0</td>\n",
       "    </tr>\n",
       "    <tr>\n",
       "      <th>4</th>\n",
       "      <td>1004</td>\n",
       "      <td>surf</td>\n",
       "      <td>Seattle-Tacoma-Bellevue, WA MSA</td>\n",
       "      <td>370</td>\n",
       "      <td>2772.0</td>\n",
       "      <td>177</td>\n",
       "      <td>157.0</td>\n",
       "    </tr>\n",
       "  </tbody>\n",
       "</table>\n",
       "</div>"
      ],
      "text/plain": [
       "   user_id      plan                                   city  calls_month  \\\n",
       "0     1000  ultimate  Atlanta-Sandy Springs-Roswell, GA MSA           16   \n",
       "1     1001      surf        Seattle-Tacoma-Bellevue, WA MSA          261   \n",
       "2     1002      surf   Las Vegas-Henderson-Paradise, NV MSA          113   \n",
       "3     1003      surf                          Tulsa, OK MSA          149   \n",
       "4     1004      surf        Seattle-Tacoma-Bellevue, WA MSA          370   \n",
       "\n",
       "   minutes_month  messages_month  internet_month  \n",
       "0          124.0              11             2.0  \n",
       "1         1728.0             207            81.0  \n",
       "2          829.0              88            41.0  \n",
       "3         1104.0              50            27.0  \n",
       "4         2772.0             177           157.0  "
      ]
     },
     "execution_count": 569,
     "metadata": {},
     "output_type": "execute_result"
    }
   ],
   "source": [
    "# < Calculate the monthly income for each user >\n",
    "df_usr_revenue = df_month_consume.groupby(by=['user_id','plan', 'city']\n",
    ")[['calls_month','minutes_month', 'messages_month', 'internet_month']].sum().reset_index()\n",
    "\n",
    "\n",
    "df_usr_revenue.head()"
   ]
  },
  {
   "cell_type": "code",
   "execution_count": 570,
   "metadata": {},
   "outputs": [],
   "source": [
    "limits = {\n",
    "    'surf':{'minutes':500, 'messages':50, 'internet':15360, 'monthly_fee': 20},\n",
    "    'ultimate': {'minutes': 3000, 'messages': 1000, 'internet': 30, 'monthly_fee': 70}\n",
    "}\n",
    "\n",
    "rates = {\n",
    "    'surf': {'minutes': 0.03, 'messages': 0.03, 'internet': 10},\n",
    "    'ultimate': {'minutes': 0.01, 'messages': 0.01, 'internet': 7}\n",
    "}\n",
    "\n",
    "\n",
    "def calculate_revenue(row):\n",
    "    plan = row['plan']\n",
    "    extra_minutes = max(0, row['minutes_month'] - limits[plan]['minutes'])\n",
    "    extra_messages = max(0, row['messages_month'] - limits[plan]['messages'])\n",
    "    extra_internet = max(0, row['internet_month'] - limits[plan]['internet'])\n",
    "    \n",
    "    extra_cost = (extra_minutes * rates[plan]['minutes']+\n",
    "                  extra_messages * rates[plan]['messages']+\n",
    "                  extra_internet * rates[plan]['internet']\n",
    "                 )\n",
    "    total_revenue = extra_cost + limits[plan]['monthly_fee']\n",
    "    return total_revenue\n"
   ]
  },
  {
   "cell_type": "code",
   "execution_count": 571,
   "metadata": {},
   "outputs": [
    {
     "name": "stdout",
     "output_type": "stream",
     "text": [
      "   user_id      plan                                   city  calls_month  \\\n",
      "0     1000  ultimate  Atlanta-Sandy Springs-Roswell, GA MSA           16   \n",
      "1     1001      surf        Seattle-Tacoma-Bellevue, WA MSA          261   \n",
      "2     1002      surf   Las Vegas-Henderson-Paradise, NV MSA          113   \n",
      "3     1003      surf                          Tulsa, OK MSA          149   \n",
      "4     1004      surf        Seattle-Tacoma-Bellevue, WA MSA          370   \n",
      "\n",
      "   minutes_month  messages_month  internet_month  total_revenue  \n",
      "0          124.0              11             2.0          70.00  \n",
      "1         1728.0             207            81.0          61.55  \n",
      "2          829.0              88            41.0          31.01  \n",
      "3         1104.0              50            27.0          38.12  \n",
      "4         2772.0             177           157.0          91.97  \n"
     ]
    }
   ],
   "source": [
    "df_usr_revenue['total_revenue'] = df_usr_revenue.apply(calculate_revenue, axis=1)\n",
    "\n",
    "print(df_usr_revenue[0:5])"
   ]
  },
  {
   "cell_type": "markdown",
   "metadata": {
    "id": "-jtyHzJb0q1I"
   },
   "source": [
    "### 3.2-Study user behavior"
   ]
  },
  {
   "cell_type": "code",
   "execution_count": 572,
   "metadata": {},
   "outputs": [],
   "source": [
    "import seaborn as sns\n",
    "import matplotlib.pyplot as plt"
   ]
  },
  {
   "cell_type": "markdown",
   "metadata": {
    "id": "vtW4CJEe0q1J"
   },
   "source": [
    "#### 3.2.1-Calls user behavior"
   ]
  },
  {
   "cell_type": "code",
   "execution_count": 573,
   "metadata": {
    "id": "Jf5v5--k0q1J"
   },
   "outputs": [
    {
     "data": {
      "image/png": "[encoded data removed]",
      "text/plain": [
       "<Figure size 640x480 with 1 Axes>"
      ]
     },
     "metadata": {},
     "output_type": "display_data"
    }
   ],
   "source": [
    "# df_usr_revenue['average_call_duration'] = df_usr_revenue['minutes_month'] / df_usr_revenue['calls_month']\n",
    "average_duration_by_plan = df_usr_revenue.groupby('plan')['minutes_month'].mean().reset_index()\n",
    "\n",
    "sns.barplot(\n",
    "    x='plan', \n",
    "    y='minutes_month', \n",
    "    data=average_duration_by_plan,\n",
    "    hue='plan',\n",
    "    legend=False,\n",
    "    palette='viridis'\n",
    ")\n",
    "plt.title('Mean Call Duration by Plan')\n",
    "plt.xlabel('Plan')\n",
    "plt.ylabel('Mean Call Duration (minutes)')\n",
    "plt.xticks(rotation=0)\n",
    "plt.show()\n"
   ]
  },
  {
   "cell_type": "code",
   "execution_count": 574,
   "metadata": {
    "id": "QoLqW1S_0q1J"
   },
   "outputs": [
    {
     "data": {
      "image/png": "[encoded data removed]",
      "text/plain": [
       "<Figure size 1000x600 with 1 Axes>"
      ]
     },
     "metadata": {},
     "output_type": "display_data"
    }
   ],
   "source": [
    "# < Compare the number of monthly minutes that users of each plan need. Plot a histogram. >\n",
    "\n",
    "plt.figure(figsize=(10, 6))\n",
    "\n",
    "sns.histplot(\n",
    "    data=df_usr_revenue,\n",
    "    x='minutes_month', \n",
    "    hue='plan', \n",
    "    multiple='stack', \n",
    "    palette='viridis', \n",
    "    bins=20\n",
    ")\n",
    "\n",
    "plt.title('Month Minutes Distribution by Plan')\n",
    "plt.xlabel('Month Minutes')\n",
    "plt.ylabel('Frequency')\n",
    "plt.show()"
   ]
  },
  {
   "cell_type": "code",
   "execution_count": 575,
   "metadata": {
    "id": "oSndbAnt0q1K"
   },
   "outputs": [
    {
     "name": "stdout",
     "output_type": "stream",
     "text": [
      "Mean call duration by plan:\n",
      "1990.4071246819337\n",
      "\n",
      "Variance call duration by plan:\n",
      "2958399.9154593134\n"
     ]
    }
   ],
   "source": [
    "# < Calculates the mean and variance of the monthly call duration. >\n",
    "mean_duration = df_usr_revenue['minutes_month'].mean()\n",
    "var_duration = df_usr_revenue['minutes_month'].var()\n",
    "\n",
    "print(\"Mean call duration by plan:\")\n",
    "print(mean_duration)\n",
    "print(\"\\nVariance call duration by plan:\")\n",
    "print(var_duration)\n"
   ]
  },
  {
   "cell_type": "code",
   "execution_count": null,
   "metadata": {
    "id": "nZzoRUKc0q1K",
    "scrolled": true
   },
   "outputs": [
    {
     "data": {
      "text/plain": [
       "<Figure size 1000x600 with 0 Axes>"
      ]
     },
     "metadata": {},
     "output_type": "display_data"
    },
    {
     "data": {
      "image/png": "[encoded data removed]",
      "text/plain": [
       "<Figure size 640x480 with 1 Axes>"
      ]
     },
     "metadata": {},
     "output_type": "display_data"
    }
   ],
   "source": [
    "# < Plot a boxplot to visualize the distribution of monthly call duration >\n",
    "plt.figure(figsize=(10, 6))\n",
    "\n",
    "df_usr_revenue.boxplot(column='minutes_month', by='plan')\n",
    "plt.title('Boxplot Calls Duration by Plan')\n",
    "plt.suptitle('')\n",
    "plt.xlabel('Plan')\n",
    "plt.ylabel('Call Duration (minutes)')\n",
    "plt.show();\n"
   ]
  },
  {
   "cell_type": "markdown",
   "metadata": {},
   "source": [
    "🏷️ **Observation**:\n",
    "\n",
    "- **Average call duration**: Users on the `surf` plan tend to have a slightly longer average call duration compared to those on the `ultimate` plan.\n",
    "\n",
    "- **Variability**: Both plans show great **Variability** in call durations, with many outliers indicating that some users have much longer call durations than the typical user.\n",
    "\n",
    "- **Distribution**: The distribution of call durations is wide across both plans, suggesting that there are users with very different usage patterns within each plan."
   ]
  },
  {
   "cell_type": "markdown",
   "metadata": {
    "id": "8idKy8Wh0q1L"
   },
   "source": [
    "#### 3.3.1-Messages user behavior"
   ]
  },
  {
   "cell_type": "code",
   "execution_count": null,
   "metadata": {
    "id": "NXLxiTit0q1L",
    "scrolled": true
   },
   "outputs": [
    {
     "data": {
      "image/png": "[encoded data removed]",
      "text/plain": [
       "<Figure size 1000x600 with 1 Axes>"
      ]
     },
     "metadata": {},
     "output_type": "display_data"
    }
   ],
   "source": [
    "# < Compare the number of messages that users on each plan usually send each month >\n",
    "\n",
    "plt.figure(figsize=(10, 6))\n",
    "\n",
    "sns.histplot(\n",
    "    data=df_usr_revenue,\n",
    "    x='messages_month', \n",
    "    hue='plan', \n",
    "    multiple='stack', \n",
    "    palette='viridis', \n",
    "    bins=20\n",
    ")\n",
    "\n",
    "plt.title('Month Messages Distribution by Plan')\n",
    "plt.xlabel('Number of Messages')\n",
    "plt.ylabel('Frequency')\n",
    "plt.show()"
   ]
  },
  {
   "cell_type": "code",
   "execution_count": 578,
   "metadata": {
    "id": "dtFwCGAp0q1M",
    "scrolled": true
   },
   "outputs": [
    {
     "data": {
      "text/plain": [
       "<Figure size 1000x600 with 0 Axes>"
      ]
     },
     "metadata": {},
     "output_type": "display_data"
    },
    {
     "data": {
      "image/png": "[encoded data removed]",
      "text/plain": [
       "<Figure size 640x480 with 1 Axes>"
      ]
     },
     "metadata": {},
     "output_type": "display_data"
    }
   ],
   "source": [
    "plt.figure(figsize=(10, 6))\n",
    "\n",
    "df_usr_revenue.boxplot(column='messages_month', by='plan')\n",
    "plt.title('Boxplot Messages by Plan')\n",
    "plt.suptitle('')\n",
    "plt.xlabel('Plan')\n",
    "plt.ylabel('Number of Messages')\n",
    "plt.show();"
   ]
  },
  {
   "cell_type": "markdown",
   "metadata": {},
   "source": [
    "🏷️ **Observation**: \n",
    "\n",
    "- Users on the `ultimate` plan tend to send more messages and show greater variability in their behavior compared to users on the `surf` plan.\n",
    "\n",
    "- **IQR**: Is higher for the `ultimate` plan, indicating greater variability in the number of messages sent.\n",
    "\n",
    "- **Outliers**: There are more outliers in the `surf` plan, suggesting that some users send a significantly higher number of messages compared to the majority.\n"
   ]
  },
  {
   "cell_type": "markdown",
   "metadata": {
    "id": "42YSypXz0q1M"
   },
   "source": [
    "#### 3.4.1-Internet user behavior"
   ]
  },
  {
   "cell_type": "code",
   "execution_count": null,
   "metadata": {
    "id": "GRI_R7xF0q1L"
   },
   "outputs": [
    {
     "data": {
      "image/png": "[encoded data removed]",
      "text/plain": [
       "<Figure size 1000x600 with 1 Axes>"
      ]
     },
     "metadata": {},
     "output_type": "display_data"
    }
   ],
   "source": [
    "# < Compares the amount of Internet traffic consumed by users per plan. >\n",
    "\n",
    "plt.figure(figsize=(10, 6))\n",
    "\n",
    "sns.histplot(\n",
    "    data=df_usr_revenue,\n",
    "    x='internet_month', \n",
    "    hue='plan', \n",
    "    multiple='stack', \n",
    "    palette='viridis', \n",
    "    bins=20\n",
    ")\n",
    "\n",
    "plt.title('Month Internet Consumption Distribution by Plan')\n",
    "plt.xlabel('Internet Consume (Gigabytes) ')\n",
    "plt.ylabel('Frequency')\n",
    "plt.show()"
   ]
  },
  {
   "cell_type": "code",
   "execution_count": 580,
   "metadata": {
    "id": "lSuKPtjh0q1M",
    "scrolled": true
   },
   "outputs": [
    {
     "data": {
      "text/plain": [
       "<Figure size 1000x600 with 0 Axes>"
      ]
     },
     "metadata": {},
     "output_type": "display_data"
    },
    {
     "data": {
      "image/png": "[encoded data removed]",
      "text/plain": [
       "<Figure size 640x480 with 1 Axes>"
      ]
     },
     "metadata": {},
     "output_type": "display_data"
    }
   ],
   "source": [
    "plt.figure(figsize=(10, 6))\n",
    "\n",
    "df_usr_revenue.boxplot(column='internet_month', by='plan')\n",
    "plt.title('Boxplot Internet Consumption by Plan')\n",
    "plt.suptitle('')\n",
    "plt.xlabel('Plan')\n",
    "plt.ylabel('Internet Consumption (GB)')\n",
    "plt.show();"
   ]
  },
  {
   "cell_type": "markdown",
   "metadata": {},
   "source": [
    "🏷️ **Observation**:\n",
    "**Consumption by Plan**: Users of the `surf` plan tend to consume more Internet traffic compared to those of the `ultimate` plan.\n",
    "\n",
    "**Variability**: Both plans show significant variability in consumption, with several users who are **outliers** and consume much more than average.\n",
    "\n",
    "**User Behavior**: User behavior varies by plan, suggesting that those on the `ultimate` plan have less restrictive data needs and therefore higher usage."
   ]
  },
  {
   "cell_type": "markdown",
   "metadata": {
    "id": "tCijq3260q1N"
   },
   "source": [
    "### 3.3-Income"
   ]
  },
  {
   "cell_type": "code",
   "execution_count": 581,
   "metadata": {
    "id": "tz-dq_V00q1O"
   },
   "outputs": [
    {
     "data": {
      "image/png": "[encoded data removed]",
      "text/plain": [
       "<Figure size 640x480 with 1 Axes>"
      ]
     },
     "metadata": {},
     "output_type": "display_data"
    }
   ],
   "source": [
    "sns.barplot(\n",
    "    x='plan', \n",
    "    y='total_revenue', \n",
    "    data=df_usr_revenue,\n",
    "    hue='plan',\n",
    "    legend=False,\n",
    "    palette='viridis'\n",
    ")\n",
    "plt.title('Total Revenue by Plan')\n",
    "plt.xlabel('Plan')\n",
    "plt.ylabel('Revenue (USD)')\n",
    "plt.xticks(rotation=0)\n",
    "plt.show()"
   ]
  },
  {
   "cell_type": "code",
   "execution_count": 582,
   "metadata": {
    "id": "0Y1v8ZUz0q1P"
   },
   "outputs": [
    {
     "data": {
      "image/png": "[encoded data removed]",
      "text/plain": [
       "<Figure size 1000x600 with 1 Axes>"
      ]
     },
     "metadata": {},
     "output_type": "display_data"
    }
   ],
   "source": [
    "plt.figure(figsize=(10, 6))\n",
    "\n",
    "sns.histplot(\n",
    "    data=df_usr_revenue,\n",
    "    x='total_revenue', \n",
    "    hue='plan', \n",
    "    multiple='stack', \n",
    "    palette='viridis', \n",
    "    bins=20\n",
    ")\n",
    "\n",
    "plt.title('Total Revenue Distribution by Plan')\n",
    "plt.xlabel('Revenue (USD)')\n",
    "plt.ylabel('Frequency')\n",
    "plt.show()"
   ]
  },
  {
   "cell_type": "code",
   "execution_count": 583,
   "metadata": {
    "id": "bYmwxyVh0q1P"
   },
   "outputs": [
    {
     "data": {
      "text/plain": [
       "<Figure size 1000x600 with 0 Axes>"
      ]
     },
     "metadata": {},
     "output_type": "display_data"
    },
    {
     "data": {
      "image/png": "[encoded data removed]",
      "text/plain": [
       "<Figure size 640x480 with 1 Axes>"
      ]
     },
     "metadata": {},
     "output_type": "display_data"
    }
   ],
   "source": [
    "plt.figure(figsize=(10, 6))\n",
    "\n",
    "df_usr_revenue.boxplot(column='total_revenue', by='plan')\n",
    "plt.title('Boxplot Total Revenue by Plan')\n",
    "plt.suptitle('')\n",
    "plt.xlabel('Plan')\n",
    "plt.ylabel('Total Revenue (USD)')\n",
    "plt.show()"
   ]
  },
  {
   "cell_type": "markdown",
   "metadata": {},
   "source": [
    "🏷️ **Observation**:\n",
    "\n",
    "- **Median Income**: The `ultimate` plan has a higher median income (**around $700**) compared to the `surf` plan.\n",
    "\n",
    "- **IQR**: The IQR of the `ultimate` plan is narrower (**100-1400 USD**), indicating more consistent income, while the `surf` plan has a wider IQR **(100-200 USD)**, showing greater variability .\n",
    "\n",
    "- **Outliers**: The `ultiamte` plan features more outliers, some reaching up to $2,500, suggesting that some customers generate significantly higher income on this plan."
   ]
  },
  {
   "cell_type": "markdown",
   "metadata": {
    "id": "ajJ7VKeI0q1Q"
   },
   "source": [
    "## 4.0-Test the statistical hypotheses"
   ]
  },
  {
   "cell_type": "markdown",
   "metadata": {},
   "source": [
    "- $H0$ **Null hypothesis**: the means of the two plans are equal\n",
    "- $H1$ **Alternative hypothesis**: the means of the two plans are different  \n",
    "- $alpha$ We will use a significance level alpha = 00.5"
   ]
  },
  {
   "cell_type": "markdown",
   "metadata": {},
   "source": [
    "> [H0] The average income of users of Ultimate and Surf rates differs. "
   ]
  },
  {
   "cell_type": "code",
   "execution_count": 584,
   "metadata": {
    "id": "nFoPNlPq0q1R"
   },
   "outputs": [
    {
     "name": "stdout",
     "output_type": "stream",
     "text": [
      "t-statistic: 13.179749629241318, p-value: 4.450732015336573e-33\n",
      "We reject the null hypothesis. The average incomes are different.\n"
     ]
    }
   ],
   "source": [
    "\n",
    "# < Separate income by plan >\n",
    "ultimate_revenue = df_usr_revenue[df_usr_revenue['plan'] == 'ultimate']['total_revenue']\n",
    "surf_revenue = df_usr_revenue[df_usr_revenue['plan'] == 'surf']['total_revenue']\n",
    "\n",
    "# < Perform the t test >\n",
    "t_stat, p_value = stats.ttest_ind(ultimate_revenue, surf_revenue)\n",
    "\n",
    "print(f\"t-statistic: {t_stat}, p-value: {p_value}\")\n",
    "\n",
    "# < Interpretation of the result >\n",
    "if p_value < 0.05:\n",
    "    print(\"We reject the null hypothesis. The average incomes are different.\")\n",
    "else:\n",
    "    print(\"We cannot reject the null hypothesis. The average income is the same.\")"
   ]
  },
  {
   "cell_type": "markdown",
   "metadata": {},
   "source": [
    "> [H0] The average income of users in the New York-New Jersey state area is different from that of users in other regions."
   ]
  },
  {
   "cell_type": "code",
   "execution_count": 585,
   "metadata": {
    "id": "Cqcj7wrZ0q1S"
   },
   "outputs": [
    {
     "name": "stdout",
     "output_type": "stream",
     "text": [
      "t-statistic: 13.179749629241318\n",
      "p-value: 4.450732015336573e-33\n",
      "We reject the null hypothesis. There is a significant difference in average income between users in the NY-NJ area and users in other regions.\n"
     ]
    }
   ],
   "source": [
    "\n",
    "\n",
    "#  < Separate income by region >\n",
    "ny_nj_revenue = df_usr_revenue[df_usr_revenue['city'] == 'New York-Newark-Jersey City, NY-NJ-PA MSA']['total_revenue']\n",
    "other_revenue = df_usr_revenue[df_usr_revenue['city'] != 'New York-Newark-Jersey City, NY-NJ-PA MSA']['total_revenue']\n",
    "\n",
    "# < Perform two independent samples t test >\n",
    "t_stat, p_value = stats.ttest_ind(ultimate_revenue, surf_revenue)\n",
    "\n",
    "# < Show results >\n",
    "print(f\"t-statistic: {t_stat}\")\n",
    "print(f\"p-value: {p_value}\")\n",
    "\n",
    "\n",
    "# < Determine if we reject the null hypothesis >\n",
    "alpha = 0.05\n",
    "if p_value < alpha:\n",
    "    print(\"We reject the null hypothesis. There is a significant difference in average income between users in the NY-NJ area and users in other regions.\")\n",
    "else:\n",
    "    print(\"We cannot reject the null hypothesis. There is no significant difference in average income between users in the NY-NJ area and users in other regions.\")"
   ]
  },
  {
   "cell_type": "markdown",
   "metadata": {},
   "source": [
    "## General Conclusion"
   ]
  },
  {
   "cell_type": "markdown",
   "metadata": {},
   "source": [
    "**Median Income and Variability**:\n",
    "The `ultimate` plan has a higher (around $700) and more consistent median income (IQR of 100-1400 USD) compared to the `surf` plan (IQR of 100-200 USD), which shows greater variability in the income.\n",
    "\n",
    "**Outliers (Atypical values)**:\n",
    "The `ultimate` plan has more outliers, some reaching up to $2,500, suggesting that some customers generate significantly higher income on this plan.\n",
    "\n",
    "**Average Call Duration**:\n",
    "Users on the `surf` plan tend to have a slightly longer average call duration compared to those on the `ultimate` plan.\n",
    "\n",
    "**Internet consumption**:\n",
    "Users on the `surf` plan tend to consume more Internet traffic compared to those on the `ultimate` plan. Both plans show significant variability in consumption, with several users who are outliers and consume much more than the average.\n",
    "\n",
    "**Behavior in Messages**:\n",
    "Users on the `ultimate` plan tend to send more messages and show greater variability in their behavior compared to users on the `surf` plan. The IQR is higher for the ultimate plan, indicating greater variability in the number of messages sent. However, there are more outliers in the 'surf' plan, suggesting that some users send a significantly higher number of messages compared to the majority.\n",
    "\n",
    "**Formulation of Hypotheses**: \n",
    "I chose two independent samples `t test `because we are comparing the average income between two independent groups.\n",
    "\n",
    "I chose an `alpha` value of **0.05**, which is a commonly accepted level of significance in statistical analyses.\n"
   ]
  }
 ],
 "metadata": {
  "ExecuteTimeLog": [
   {
    "duration": 828,
    "start_time": "2021-11-16T09:21:11.304Z"
   },
   {
    "duration": 893,
    "start_time": "2021-11-16T09:21:17.728Z"
   },
   {
    "duration": 1150,
    "start_time": "2021-11-16T09:21:29.568Z"
   },
   {
    "duration": 3,
    "start_time": "2021-11-16T09:24:14.495Z"
   },
   {
    "duration": 120,
    "start_time": "2021-11-16T09:24:46.630Z"
   },
   {
    "duration": 3,
    "start_time": "2021-11-16T09:28:27.882Z"
   },
   {
    "duration": 4,
    "start_time": "2021-11-16T09:29:54.281Z"
   },
   {
    "duration": 3,
    "start_time": "2021-11-16T09:30:45.936Z"
   },
   {
    "duration": 4,
    "start_time": "2021-11-16T09:31:06.300Z"
   },
   {
    "duration": 113,
    "start_time": "2021-11-16T09:31:37.208Z"
   },
   {
    "duration": 143,
    "start_time": "2021-11-16T09:31:48.656Z"
   },
   {
    "duration": 98,
    "start_time": "2021-11-16T09:31:55.678Z"
   },
   {
    "duration": 3,
    "start_time": "2021-11-16T09:32:08.535Z"
   },
   {
    "duration": 111,
    "start_time": "2021-11-16T09:32:10.120Z"
   },
   {
    "duration": 3,
    "start_time": "2021-11-16T09:32:15.732Z"
   },
   {
    "duration": 4,
    "start_time": "2021-11-16T09:32:29.423Z"
   },
   {
    "duration": 3,
    "start_time": "2021-11-16T10:03:03.074Z"
   },
   {
    "duration": 3,
    "start_time": "2021-11-16T10:10:01.288Z"
   },
   {
    "duration": 3,
    "start_time": "2021-11-16T10:10:46.923Z"
   },
   {
    "duration": 121,
    "start_time": "2021-11-16T10:37:46.494Z"
   },
   {
    "duration": 125,
    "start_time": "2021-11-16T10:38:20.632Z"
   },
   {
    "duration": 112,
    "start_time": "2021-11-16T10:46:53.001Z"
   },
   {
    "duration": 110,
    "start_time": "2021-11-16T10:48:25.775Z"
   },
   {
    "duration": 3,
    "start_time": "2021-11-16T10:50:18.720Z"
   },
   {
    "duration": 4,
    "start_time": "2021-11-16T10:50:37.649Z"
   },
   {
    "duration": 2,
    "start_time": "2021-11-16T10:50:51.884Z"
   },
   {
    "duration": 3,
    "start_time": "2021-11-16T10:51:56.237Z"
   },
   {
    "duration": 101,
    "start_time": "2021-11-16T10:53:13.791Z"
   },
   {
    "duration": 3,
    "start_time": "2021-11-16T10:55:59.186Z"
   },
   {
    "duration": 3,
    "start_time": "2021-11-16T10:56:10.751Z"
   },
   {
    "duration": 3,
    "start_time": "2021-11-16T10:56:49.038Z"
   },
   {
    "duration": 3,
    "start_time": "2021-11-16T10:56:49.174Z"
   },
   {
    "duration": 4,
    "start_time": "2021-11-16T10:56:49.414Z"
   },
   {
    "duration": 3,
    "start_time": "2021-11-16T10:56:49.680Z"
   },
   {
    "duration": 3,
    "start_time": "2021-11-16T10:56:50.370Z"
   },
   {
    "duration": 114,
    "start_time": "2021-11-16T10:59:34.518Z"
   },
   {
    "duration": 3,
    "start_time": "2021-11-16T11:01:41.201Z"
   },
   {
    "duration": 116,
    "start_time": "2021-11-16T11:01:48.754Z"
   },
   {
    "duration": 3,
    "start_time": "2021-11-16T11:02:16.685Z"
   },
   {
    "duration": 3,
    "start_time": "2021-11-16T11:02:19.479Z"
   },
   {
    "duration": 3,
    "start_time": "2021-11-16T11:02:47.067Z"
   },
   {
    "duration": 3,
    "start_time": "2021-11-16T11:02:49.353Z"
   },
   {
    "duration": 3,
    "start_time": "2021-11-16T11:03:07.835Z"
   },
   {
    "duration": 3,
    "start_time": "2021-11-16T11:03:07.953Z"
   },
   {
    "duration": 112,
    "start_time": "2021-11-16T11:07:52.072Z"
   },
   {
    "duration": 187,
    "start_time": "2021-11-16T11:09:23.468Z"
   },
   {
    "duration": 4,
    "start_time": "2021-11-16T11:10:01.455Z"
   },
   {
    "duration": 3,
    "start_time": "2021-11-16T11:10:05.069Z"
   },
   {
    "duration": 4,
    "start_time": "2021-11-16T11:10:13.376Z"
   },
   {
    "duration": 3,
    "start_time": "2021-11-16T11:10:14.434Z"
   },
   {
    "duration": 3,
    "start_time": "2021-11-16T11:10:22.853Z"
   },
   {
    "duration": 4,
    "start_time": "2021-11-16T11:27:29.279Z"
   },
   {
    "duration": 4,
    "start_time": "2021-11-16T11:29:08.919Z"
   },
   {
    "duration": 118,
    "start_time": "2021-11-16T11:29:46.703Z"
   },
   {
    "duration": 437,
    "start_time": "2021-11-16T11:36:02.181Z"
   },
   {
    "duration": 157,
    "start_time": "2021-11-16T11:36:14.388Z"
   },
   {
    "duration": 207,
    "start_time": "2021-11-16T11:47:15.898Z"
   },
   {
    "duration": 3,
    "start_time": "2021-11-16T11:53:52.092Z"
   },
   {
    "duration": 3,
    "start_time": "2021-11-16T11:53:52.236Z"
   },
   {
    "duration": 3,
    "start_time": "2021-11-16T11:59:12.005Z"
   },
   {
    "duration": 112,
    "start_time": "2021-11-16T12:00:33.446Z"
   },
   {
    "duration": 3,
    "start_time": "2021-11-16T12:02:14.453Z"
   },
   {
    "duration": 3,
    "start_time": "2021-11-16T12:02:39.512Z"
   },
   {
    "duration": 106,
    "start_time": "2021-11-16T12:03:03.460Z"
   },
   {
    "duration": 3,
    "start_time": "2021-11-17T20:37:21.139Z"
   },
   {
    "duration": 3,
    "start_time": "2021-11-17T20:37:22.229Z"
   },
   {
    "duration": 3,
    "start_time": "2021-11-17T20:38:38.806Z"
   },
   {
    "duration": 3,
    "start_time": "2021-11-17T20:38:41.958Z"
   },
   {
    "duration": 3,
    "start_time": "2021-11-17T20:43:46.551Z"
   },
   {
    "duration": 4,
    "start_time": "2021-11-17T20:58:21.835Z"
   },
   {
    "duration": 3,
    "start_time": "2021-11-17T20:59:21.872Z"
   },
   {
    "duration": 4,
    "start_time": "2021-11-17T20:59:45.352Z"
   },
   {
    "duration": 4,
    "start_time": "2021-11-17T20:59:49.646Z"
   },
   {
    "duration": 159,
    "start_time": "2021-11-17T21:02:26.949Z"
   },
   {
    "duration": 3,
    "start_time": "2021-11-17T21:03:53.461Z"
   },
   {
    "duration": 3,
    "start_time": "2021-11-17T21:03:53.694Z"
   },
   {
    "duration": 3,
    "start_time": "2021-11-17T21:05:28.145Z"
   },
   {
    "duration": 116,
    "start_time": "2021-11-17T21:05:57.787Z"
   },
   {
    "duration": 3,
    "start_time": "2021-11-17T21:06:37.993Z"
   },
   {
    "duration": 3,
    "start_time": "2021-11-17T21:06:38.261Z"
   },
   {
    "duration": 3,
    "start_time": "2021-11-17T21:11:54.358Z"
   },
   {
    "duration": 3,
    "start_time": "2021-11-17T21:12:43.846Z"
   },
   {
    "duration": 4,
    "start_time": "2021-11-17T21:13:08.773Z"
   },
   {
    "duration": 3,
    "start_time": "2021-11-17T21:14:44.441Z"
   },
   {
    "duration": 3,
    "start_time": "2021-11-17T21:15:42.059Z"
   },
   {
    "duration": 4,
    "start_time": "2021-11-17T21:15:51.995Z"
   },
   {
    "duration": 3,
    "start_time": "2021-11-17T21:15:53.923Z"
   },
   {
    "duration": 3,
    "start_time": "2021-11-17T21:15:55.282Z"
   },
   {
    "duration": 3,
    "start_time": "2021-11-17T21:16:28.492Z"
   },
   {
    "duration": 3,
    "start_time": "2021-11-17T21:16:32.603Z"
   },
   {
    "duration": 3,
    "start_time": "2021-11-17T21:17:06.941Z"
   },
   {
    "duration": 98,
    "start_time": "2021-11-17T21:18:05.733Z"
   },
   {
    "duration": 4,
    "start_time": "2021-11-17T21:21:35.255Z"
   },
   {
    "duration": 3,
    "start_time": "2021-11-17T21:21:37.804Z"
   },
   {
    "duration": 4,
    "start_time": "2021-11-17T21:23:06.071Z"
   },
   {
    "duration": 3,
    "start_time": "2021-11-17T21:23:24.799Z"
   },
   {
    "duration": 3,
    "start_time": "2021-11-17T21:23:32.591Z"
   },
   {
    "duration": 98,
    "start_time": "2021-11-17T21:28:31.559Z"
   },
   {
    "duration": 3,
    "start_time": "2021-11-17T21:28:45.448Z"
   },
   {
    "duration": 3,
    "start_time": "2021-11-17T21:29:17.303Z"
   },
   {
    "duration": 3,
    "start_time": "2021-11-17T21:29:29.617Z"
   },
   {
    "duration": 3,
    "start_time": "2021-11-17T21:29:32.681Z"
   },
   {
    "duration": 3,
    "start_time": "2021-11-17T21:36:11.474Z"
   },
   {
    "duration": 3,
    "start_time": "2021-11-17T21:36:14.791Z"
   },
   {
    "duration": 3,
    "start_time": "2021-11-17T21:36:53.943Z"
   },
   {
    "duration": 3,
    "start_time": "2021-11-17T21:36:56.165Z"
   },
   {
    "duration": 4,
    "start_time": "2021-11-17T21:37:16.590Z"
   },
   {
    "duration": 3,
    "start_time": "2021-11-17T21:37:22.702Z"
   },
   {
    "duration": 4,
    "start_time": "2021-11-17T21:38:03.479Z"
   },
   {
    "duration": 3,
    "start_time": "2021-11-17T21:38:08.601Z"
   },
   {
    "duration": 3,
    "start_time": "2021-11-17T21:38:12.928Z"
   },
   {
    "duration": 3,
    "start_time": "2021-11-17T21:38:48.896Z"
   },
   {
    "duration": 2,
    "start_time": "2021-11-17T21:38:49.171Z"
   },
   {
    "duration": 4,
    "start_time": "2021-11-17T21:39:57.889Z"
   },
   {
    "duration": 3,
    "start_time": "2021-11-17T21:39:58.057Z"
   },
   {
    "duration": 3,
    "start_time": "2021-11-17T21:41:20.108Z"
   },
   {
    "duration": 3,
    "start_time": "2021-11-17T21:41:20.629Z"
   },
   {
    "duration": 3,
    "start_time": "2021-11-17T21:42:49.136Z"
   },
   {
    "duration": 3,
    "start_time": "2021-11-17T21:43:15.137Z"
   },
   {
    "duration": 4,
    "start_time": "2021-11-17T21:43:16.766Z"
   },
   {
    "duration": 4,
    "start_time": "2021-11-17T21:43:31.711Z"
   },
   {
    "duration": 3,
    "start_time": "2021-11-17T21:43:36.312Z"
   },
   {
    "duration": 4,
    "start_time": "2021-11-17T21:45:08.825Z"
   },
   {
    "duration": 4,
    "start_time": "2021-11-17T21:45:10.119Z"
   },
   {
    "duration": 4,
    "start_time": "2021-11-17T21:45:13.748Z"
   },
   {
    "duration": 3,
    "start_time": "2021-11-17T21:45:22.219Z"
   },
   {
    "duration": 3,
    "start_time": "2021-11-17T21:45:33.412Z"
   },
   {
    "duration": 2,
    "start_time": "2021-11-17T21:46:01.885Z"
   },
   {
    "duration": 3,
    "start_time": "2021-11-17T21:46:03.628Z"
   },
   {
    "duration": 107,
    "start_time": "2021-11-17T21:47:32.512Z"
   },
   {
    "duration": 103,
    "start_time": "2021-11-17T21:50:36.243Z"
   },
   {
    "duration": 3,
    "start_time": "2021-11-18T06:28:31.440Z"
   },
   {
    "duration": 3,
    "start_time": "2021-11-18T06:29:00.168Z"
   },
   {
    "duration": 3,
    "start_time": "2021-11-18T06:31:27.008Z"
   },
   {
    "duration": 2,
    "start_time": "2021-11-18T06:35:34.288Z"
   },
   {
    "duration": 2,
    "start_time": "2021-11-18T06:38:04.527Z"
   },
   {
    "duration": 517,
    "start_time": "2024-09-17T16:52:16.952Z"
   },
   {
    "duration": 324,
    "start_time": "2024-09-17T16:52:44.488Z"
   },
   {
    "duration": 55,
    "start_time": "2024-09-17T16:54:30.337Z"
   },
   {
    "duration": 2,
    "start_time": "2024-09-17T16:54:41.435Z"
   },
   {
    "duration": 97,
    "start_time": "2024-09-17T16:54:43.634Z"
   },
   {
    "duration": 68,
    "start_time": "2024-09-17T16:55:00.239Z"
   },
   {
    "duration": 217,
    "start_time": "2024-09-17T16:56:23.334Z"
   },
   {
    "duration": 4,
    "start_time": "2024-09-17T16:57:38.582Z"
   },
   {
    "duration": 5,
    "start_time": "2024-09-17T16:57:53.214Z"
   },
   {
    "duration": 5,
    "start_time": "2024-09-17T16:58:03.020Z"
   },
   {
    "duration": 16,
    "start_time": "2024-09-17T16:58:08.874Z"
   },
   {
    "duration": 14,
    "start_time": "2024-09-17T16:59:47.503Z"
   },
   {
    "duration": 5,
    "start_time": "2024-09-17T16:59:56.990Z"
   },
   {
    "duration": 5,
    "start_time": "2024-09-17T17:00:05.157Z"
   },
   {
    "duration": 11,
    "start_time": "2024-09-17T17:00:10.393Z"
   },
   {
    "duration": 20,
    "start_time": "2024-09-17T17:01:13.187Z"
   },
   {
    "duration": 14,
    "start_time": "2024-09-17T17:02:39.813Z"
   },
   {
    "duration": 18,
    "start_time": "2024-09-17T17:02:43.196Z"
   },
   {
    "duration": 11,
    "start_time": "2024-09-17T17:02:43.896Z"
   },
   {
    "duration": 10,
    "start_time": "2024-09-17T17:02:46.051Z"
   },
   {
    "duration": 2,
    "start_time": "2024-09-17T17:02:50.498Z"
   },
   {
    "duration": 162,
    "start_time": "2024-09-17T17:02:52.300Z"
   },
   {
    "duration": 16,
    "start_time": "2024-09-17T17:02:52.860Z"
   },
   {
    "duration": 14,
    "start_time": "2024-09-17T17:02:54.881Z"
   },
   {
    "duration": 11,
    "start_time": "2024-09-17T17:02:55.249Z"
   },
   {
    "duration": 11,
    "start_time": "2024-09-17T17:02:56.548Z"
   },
   {
    "duration": 10,
    "start_time": "2024-09-17T17:03:06.347Z"
   },
   {
    "duration": 10,
    "start_time": "2024-09-17T17:03:09.094Z"
   },
   {
    "duration": 7,
    "start_time": "2024-09-17T17:03:36.591Z"
   },
   {
    "duration": 16,
    "start_time": "2024-09-17T17:04:10.950Z"
   },
   {
    "duration": 19,
    "start_time": "2024-09-17T17:04:16.157Z"
   },
   {
    "duration": 47,
    "start_time": "2024-09-17T17:06:21.744Z"
   },
   {
    "duration": 32,
    "start_time": "2024-09-17T17:06:37.627Z"
   },
   {
    "duration": 14,
    "start_time": "2024-09-17T17:06:43.253Z"
   },
   {
    "duration": 28,
    "start_time": "2024-09-17T17:06:50.607Z"
   },
   {
    "duration": 19,
    "start_time": "2024-09-17T17:07:00.738Z"
   },
   {
    "duration": 21,
    "start_time": "2024-09-17T17:07:15.672Z"
   },
   {
    "duration": 43,
    "start_time": "2024-09-17T17:07:25.622Z"
   },
   {
    "duration": 40,
    "start_time": "2024-09-17T17:07:38.432Z"
   },
   {
    "duration": 18,
    "start_time": "2024-09-17T17:07:47.431Z"
   },
   {
    "duration": 18,
    "start_time": "2024-09-17T17:10:39.517Z"
   },
   {
    "duration": 5,
    "start_time": "2024-09-17T17:10:52.643Z"
   },
   {
    "duration": 20,
    "start_time": "2024-09-17T17:10:58.962Z"
   },
   {
    "duration": 19,
    "start_time": "2024-09-17T17:11:09.255Z"
   },
   {
    "duration": 19,
    "start_time": "2024-09-17T17:11:17.871Z"
   },
   {
    "duration": 21,
    "start_time": "2024-09-17T17:11:43.899Z"
   },
   {
    "duration": 21,
    "start_time": "2024-09-17T17:11:57.001Z"
   },
   {
    "duration": 20,
    "start_time": "2024-09-17T17:12:15.380Z"
   },
   {
    "duration": 13,
    "start_time": "2024-09-17T17:12:52.738Z"
   },
   {
    "duration": 40,
    "start_time": "2024-09-17T17:13:06.399Z"
   },
   {
    "duration": 6,
    "start_time": "2024-09-17T17:15:54.134Z"
   },
   {
    "duration": 12,
    "start_time": "2024-09-17T17:16:44.502Z"
   },
   {
    "duration": 24,
    "start_time": "2024-09-17T17:18:44.387Z"
   },
   {
    "duration": 10,
    "start_time": "2024-09-17T17:18:54.405Z"
   },
   {
    "duration": 3,
    "start_time": "2024-09-17T17:20:54.256Z"
   },
   {
    "duration": 231,
    "start_time": "2024-09-17T17:22:11.876Z"
   },
   {
    "duration": 11,
    "start_time": "2024-09-17T17:22:33.528Z"
   },
   {
    "duration": 8,
    "start_time": "2024-09-17T17:22:48.058Z"
   },
   {
    "duration": 13,
    "start_time": "2024-09-17T17:22:53.851Z"
   },
   {
    "duration": 8,
    "start_time": "2024-09-17T17:23:13.288Z"
   },
   {
    "duration": 5,
    "start_time": "2024-09-17T17:23:44.994Z"
   },
   {
    "duration": 5,
    "start_time": "2024-09-17T17:27:03.998Z"
   },
   {
    "duration": 9,
    "start_time": "2024-09-17T17:32:45.316Z"
   },
   {
    "duration": 10,
    "start_time": "2024-09-17T17:33:08.428Z"
   },
   {
    "duration": 6,
    "start_time": "2024-09-17T17:33:28.702Z"
   },
   {
    "duration": 6,
    "start_time": "2024-09-17T17:34:24.477Z"
   },
   {
    "duration": 6,
    "start_time": "2024-09-17T17:34:46.010Z"
   },
   {
    "duration": 6,
    "start_time": "2024-09-17T17:37:16.063Z"
   },
   {
    "duration": 4,
    "start_time": "2024-09-17T17:38:55.068Z"
   },
   {
    "duration": 4,
    "start_time": "2024-09-17T17:39:39.402Z"
   },
   {
    "duration": 5,
    "start_time": "2024-09-17T17:39:55.524Z"
   },
   {
    "duration": 3,
    "start_time": "2024-09-17T17:40:40.971Z"
   },
   {
    "duration": 4,
    "start_time": "2024-09-17T17:41:31.262Z"
   },
   {
    "duration": 17,
    "start_time": "2024-09-17T17:41:37.586Z"
   },
   {
    "duration": 15,
    "start_time": "2024-09-17T17:41:53.577Z"
   },
   {
    "duration": 4,
    "start_time": "2024-09-17T17:42:04.643Z"
   },
   {
    "duration": 15,
    "start_time": "2024-09-17T17:42:08.854Z"
   },
   {
    "duration": 15,
    "start_time": "2024-09-17T17:42:16.328Z"
   },
   {
    "duration": 3,
    "start_time": "2024-09-17T17:42:28.523Z"
   },
   {
    "duration": 17,
    "start_time": "2024-09-17T17:42:47.360Z"
   },
   {
    "duration": 14,
    "start_time": "2024-09-17T17:42:51.851Z"
   },
   {
    "duration": 3,
    "start_time": "2024-09-17T17:43:06.157Z"
   },
   {
    "duration": 360,
    "start_time": "2024-09-17T17:44:02.096Z"
   },
   {
    "duration": 11,
    "start_time": "2024-09-17T17:44:09.641Z"
   },
   {
    "duration": 19,
    "start_time": "2024-09-17T17:45:40.592Z"
   },
   {
    "duration": 12,
    "start_time": "2024-09-17T17:45:48.132Z"
   },
   {
    "duration": 5,
    "start_time": "2024-09-17T17:45:56.862Z"
   },
   {
    "duration": 12,
    "start_time": "2024-09-17T17:47:26.208Z"
   },
   {
    "duration": 15,
    "start_time": "2024-09-17T17:47:49.850Z"
   },
   {
    "duration": 7,
    "start_time": "2024-09-17T17:47:50.608Z"
   },
   {
    "duration": 7,
    "start_time": "2024-09-17T17:47:57.347Z"
   },
   {
    "duration": 5,
    "start_time": "2024-09-17T17:58:20.683Z"
   },
   {
    "duration": 13,
    "start_time": "2024-09-17T17:58:29.489Z"
   },
   {
    "duration": 8,
    "start_time": "2024-09-17T17:58:43.417Z"
   },
   {
    "duration": 6,
    "start_time": "2024-09-17T17:58:54.836Z"
   },
   {
    "duration": 14,
    "start_time": "2024-09-17T17:59:36.562Z"
   },
   {
    "duration": 6,
    "start_time": "2024-09-17T17:59:37.054Z"
   },
   {
    "duration": 8,
    "start_time": "2024-09-17T18:02:10.642Z"
   },
   {
    "duration": 15,
    "start_time": "2024-09-17T18:03:04.821Z"
   },
   {
    "duration": 5,
    "start_time": "2024-09-17T18:03:58.119Z"
   },
   {
    "duration": 13,
    "start_time": "2024-09-17T18:14:41.524Z"
   },
   {
    "duration": 17,
    "start_time": "2024-09-17T18:14:51.651Z"
   },
   {
    "duration": 16,
    "start_time": "2024-09-17T18:14:57.160Z"
   },
   {
    "duration": 7,
    "start_time": "2024-09-17T18:14:59.469Z"
   },
   {
    "duration": 12,
    "start_time": "2024-09-17T18:15:04.191Z"
   },
   {
    "duration": 15,
    "start_time": "2024-09-17T18:16:00.484Z"
   },
   {
    "duration": 14,
    "start_time": "2024-09-17T18:16:19.166Z"
   },
   {
    "duration": 14,
    "start_time": "2024-09-17T18:16:31.757Z"
   },
   {
    "duration": 14,
    "start_time": "2024-09-17T18:16:45.474Z"
   },
   {
    "duration": 19,
    "start_time": "2024-09-17T18:16:53.619Z"
   },
   {
    "duration": 13,
    "start_time": "2024-09-17T18:17:13.035Z"
   },
   {
    "duration": 7,
    "start_time": "2024-09-17T18:17:27.672Z"
   },
   {
    "duration": 27,
    "start_time": "2024-09-17T18:18:31.615Z"
   },
   {
    "duration": 23,
    "start_time": "2024-09-17T18:19:24.005Z"
   },
   {
    "duration": 10,
    "start_time": "2024-09-17T18:19:27.384Z"
   },
   {
    "duration": 12,
    "start_time": "2024-09-17T18:21:50.050Z"
   },
   {
    "duration": 289,
    "start_time": "2024-09-17T18:22:00.628Z"
   },
   {
    "duration": 40,
    "start_time": "2024-09-17T18:22:25.326Z"
   },
   {
    "duration": 41,
    "start_time": "2024-09-17T18:22:39.015Z"
   },
   {
    "duration": 16,
    "start_time": "2024-09-17T18:22:50.251Z"
   },
   {
    "duration": 7,
    "start_time": "2024-09-17T18:22:50.668Z"
   },
   {
    "duration": 23,
    "start_time": "2024-09-17T18:22:55.793Z"
   },
   {
    "duration": 8,
    "start_time": "2024-09-17T18:22:56.306Z"
   },
   {
    "duration": 49,
    "start_time": "2024-09-17T18:23:06.066Z"
   },
   {
    "duration": 12,
    "start_time": "2024-09-17T18:23:37.107Z"
   },
   {
    "duration": 179,
    "start_time": "2024-09-17T18:25:43.461Z"
   },
   {
    "duration": 15,
    "start_time": "2024-09-17T18:25:51.575Z"
   },
   {
    "duration": 10,
    "start_time": "2024-09-17T18:26:30.267Z"
   },
   {
    "duration": 14,
    "start_time": "2024-09-17T18:26:33.979Z"
   },
   {
    "duration": 11,
    "start_time": "2024-09-17T18:26:35.110Z"
   },
   {
    "duration": 15,
    "start_time": "2024-09-17T18:30:57.759Z"
   },
   {
    "duration": 6,
    "start_time": "2024-09-17T18:31:15.122Z"
   },
   {
    "duration": 11,
    "start_time": "2024-09-17T18:32:36.591Z"
   },
   {
    "duration": 22,
    "start_time": "2024-09-17T18:38:23.037Z"
   },
   {
    "duration": 8,
    "start_time": "2024-09-17T18:38:38.716Z"
   },
   {
    "duration": 19,
    "start_time": "2024-09-17T18:40:09.336Z"
   },
   {
    "duration": 8,
    "start_time": "2024-09-17T18:40:09.798Z"
   },
   {
    "duration": 15,
    "start_time": "2024-09-17T18:40:43.568Z"
   },
   {
    "duration": 7,
    "start_time": "2024-09-17T18:40:44.033Z"
   },
   {
    "duration": 13,
    "start_time": "2024-09-17T18:41:19.865Z"
   },
   {
    "duration": 26,
    "start_time": "2024-09-17T18:41:21.484Z"
   },
   {
    "duration": 10,
    "start_time": "2024-09-17T18:41:21.889Z"
   },
   {
    "duration": 15,
    "start_time": "2024-09-17T18:41:39.752Z"
   },
   {
    "duration": 9,
    "start_time": "2024-09-17T18:41:43.696Z"
   },
   {
    "duration": 11,
    "start_time": "2024-09-17T18:41:51.803Z"
   },
   {
    "duration": 80,
    "start_time": "2024-09-17T18:43:50.616Z"
   },
   {
    "duration": 90,
    "start_time": "2024-09-17T18:44:19.130Z"
   },
   {
    "duration": 11,
    "start_time": "2024-09-17T18:45:08.804Z"
   },
   {
    "duration": 82,
    "start_time": "2024-09-17T18:45:34.334Z"
   },
   {
    "duration": 11,
    "start_time": "2024-09-17T18:46:20.262Z"
   },
   {
    "duration": 13,
    "start_time": "2024-09-17T18:49:00.280Z"
   },
   {
    "duration": 9,
    "start_time": "2024-09-17T18:49:23.002Z"
   },
   {
    "duration": 8,
    "start_time": "2024-09-17T18:49:40.357Z"
   },
   {
    "duration": 7,
    "start_time": "2024-09-17T18:49:50.532Z"
   },
   {
    "duration": 15,
    "start_time": "2024-09-17T18:51:56.691Z"
   },
   {
    "duration": 4,
    "start_time": "2024-09-17T19:00:57.237Z"
   },
   {
    "duration": 21,
    "start_time": "2024-09-17T19:01:11.544Z"
   },
   {
    "duration": 5,
    "start_time": "2024-09-17T19:05:16.619Z"
   },
   {
    "duration": 4,
    "start_time": "2024-09-17T19:05:49.531Z"
   },
   {
    "duration": 5,
    "start_time": "2024-09-17T19:12:01.267Z"
   },
   {
    "duration": 8,
    "start_time": "2024-09-17T20:43:40.515Z"
   },
   {
    "duration": 579,
    "start_time": "2024-09-17T20:43:47.331Z"
   },
   {
    "duration": 254,
    "start_time": "2024-09-17T20:43:47.994Z"
   },
   {
    "duration": 10,
    "start_time": "2024-09-17T20:43:49.006Z"
   },
   {
    "duration": 6,
    "start_time": "2024-09-17T20:43:49.161Z"
   },
   {
    "duration": 8,
    "start_time": "2024-09-17T20:43:50.841Z"
   },
   {
    "duration": 5,
    "start_time": "2024-09-17T20:43:51.008Z"
   },
   {
    "duration": 17,
    "start_time": "2024-09-17T20:43:52.985Z"
   },
   {
    "duration": 7,
    "start_time": "2024-09-17T20:43:53.055Z"
   },
   {
    "duration": 26,
    "start_time": "2024-09-17T20:43:54.494Z"
   },
   {
    "duration": 8,
    "start_time": "2024-09-17T20:43:54.590Z"
   },
   {
    "duration": 12,
    "start_time": "2024-09-17T20:43:55.041Z"
   },
   {
    "duration": 5,
    "start_time": "2024-09-17T20:43:55.377Z"
   },
   {
    "duration": 14,
    "start_time": "2024-09-17T20:43:56.623Z"
   },
   {
    "duration": 6,
    "start_time": "2024-09-17T20:43:58.695Z"
   },
   {
    "duration": 14,
    "start_time": "2024-09-17T20:43:59.565Z"
   },
   {
    "duration": 7,
    "start_time": "2024-09-17T20:43:59.756Z"
   },
   {
    "duration": 21,
    "start_time": "2024-09-17T20:44:03.836Z"
   },
   {
    "duration": 8,
    "start_time": "2024-09-17T20:44:04.205Z"
   },
   {
    "duration": 4,
    "start_time": "2024-09-17T20:44:09.499Z"
   },
   {
    "duration": 13,
    "start_time": "2024-09-17T20:44:09.984Z"
   },
   {
    "duration": 10,
    "start_time": "2024-09-17T20:44:10.203Z"
   },
   {
    "duration": 7,
    "start_time": "2024-09-17T20:44:10.426Z"
   },
   {
    "duration": 11,
    "start_time": "2024-09-17T20:44:10.630Z"
   },
   {
    "duration": 4,
    "start_time": "2024-09-17T20:44:11.213Z"
   },
   {
    "duration": 4,
    "start_time": "2024-09-17T20:45:29.511Z"
   },
   {
    "duration": 4,
    "start_time": "2024-09-17T20:45:55.152Z"
   },
   {
    "duration": 4,
    "start_time": "2024-09-17T20:46:12.220Z"
   },
   {
    "duration": 4,
    "start_time": "2024-09-17T20:46:15.320Z"
   },
   {
    "duration": 4,
    "start_time": "2024-09-17T20:46:20.340Z"
   },
   {
    "duration": 15,
    "start_time": "2024-09-17T20:50:13.022Z"
   },
   {
    "duration": 15,
    "start_time": "2024-09-17T20:50:20.178Z"
   },
   {
    "duration": 15,
    "start_time": "2024-09-17T20:50:26.443Z"
   },
   {
    "duration": 14,
    "start_time": "2024-09-17T20:50:41.433Z"
   },
   {
    "duration": 15,
    "start_time": "2024-09-17T20:50:48.958Z"
   },
   {
    "duration": 12,
    "start_time": "2024-09-17T20:52:16.475Z"
   },
   {
    "duration": 9,
    "start_time": "2024-09-17T20:52:17.330Z"
   },
   {
    "duration": 10,
    "start_time": "2024-09-17T20:52:17.932Z"
   },
   {
    "duration": 4,
    "start_time": "2024-09-17T20:55:10.122Z"
   },
   {
    "duration": 240,
    "start_time": "2024-09-17T20:55:15.239Z"
   },
   {
    "duration": 613,
    "start_time": "2024-09-17T20:55:44.168Z"
   },
   {
    "duration": 5,
    "start_time": "2024-09-17T20:56:14.038Z"
   },
   {
    "duration": 14,
    "start_time": "2024-09-17T20:56:23.883Z"
   },
   {
    "duration": 9,
    "start_time": "2024-09-17T20:56:28.554Z"
   },
   {
    "duration": 4,
    "start_time": "2024-09-17T20:56:40.628Z"
   },
   {
    "duration": 15,
    "start_time": "2024-09-17T20:56:45.078Z"
   },
   {
    "duration": 4,
    "start_time": "2024-09-17T20:58:57.040Z"
   },
   {
    "duration": 14,
    "start_time": "2024-09-17T20:59:16.399Z"
   },
   {
    "duration": 139,
    "start_time": "2024-09-17T21:01:49.129Z"
   },
   {
    "duration": 14,
    "start_time": "2024-09-17T21:02:27.066Z"
   },
   {
    "duration": 17,
    "start_time": "2024-09-17T21:04:12.820Z"
   },
   {
    "duration": 10,
    "start_time": "2024-09-17T21:04:27.375Z"
   },
   {
    "duration": 11,
    "start_time": "2024-09-17T21:04:41.588Z"
   },
   {
    "duration": 10,
    "start_time": "2024-09-17T21:04:51.995Z"
   },
   {
    "duration": 13,
    "start_time": "2024-09-17T21:04:55.877Z"
   },
   {
    "duration": 4,
    "start_time": "2024-09-17T21:05:18.258Z"
   },
   {
    "duration": 13,
    "start_time": "2024-09-17T21:05:34.108Z"
   },
   {
    "duration": 13,
    "start_time": "2024-09-17T21:05:39.721Z"
   },
   {
    "duration": 14,
    "start_time": "2024-09-17T21:05:47.599Z"
   },
   {
    "duration": 351,
    "start_time": "2024-09-17T21:05:56.358Z"
   },
   {
    "duration": 13,
    "start_time": "2024-09-17T21:06:00.186Z"
   },
   {
    "duration": 59,
    "start_time": "2024-09-17T21:06:30.327Z"
   },
   {
    "duration": 3,
    "start_time": "2024-09-17T21:07:50.232Z"
   },
   {
    "duration": 15,
    "start_time": "2024-09-17T21:07:55.603Z"
   },
   {
    "duration": 22,
    "start_time": "2024-09-17T21:12:00.263Z"
   },
   {
    "duration": 7,
    "start_time": "2024-09-17T21:12:02.523Z"
   },
   {
    "duration": 14,
    "start_time": "2024-09-17T21:12:11.878Z"
   },
   {
    "duration": 7,
    "start_time": "2024-09-17T21:12:12.515Z"
   },
   {
    "duration": 18,
    "start_time": "2024-09-17T21:12:19.802Z"
   },
   {
    "duration": 7,
    "start_time": "2024-09-17T21:12:21.497Z"
   },
   {
    "duration": 5,
    "start_time": "2024-09-17T21:12:27.598Z"
   },
   {
    "duration": 153,
    "start_time": "2024-09-17T21:12:42.089Z"
   },
   {
    "duration": 40,
    "start_time": "2024-09-17T21:12:42.769Z"
   },
   {
    "duration": 41,
    "start_time": "2024-09-17T21:12:43.328Z"
   },
   {
    "duration": 40,
    "start_time": "2024-09-17T21:12:44.104Z"
   },
   {
    "duration": 10,
    "start_time": "2024-09-17T21:12:57.150Z"
   },
   {
    "duration": 11,
    "start_time": "2024-09-17T21:13:06.167Z"
   },
   {
    "duration": 11,
    "start_time": "2024-09-17T21:13:11.830Z"
   },
   {
    "duration": 13,
    "start_time": "2024-09-17T21:13:17.139Z"
   },
   {
    "duration": 8,
    "start_time": "2024-09-17T21:13:27.644Z"
   },
   {
    "duration": 14,
    "start_time": "2024-09-17T21:14:41.426Z"
   },
   {
    "duration": 5,
    "start_time": "2024-09-17T21:18:46.838Z"
   },
   {
    "duration": 4,
    "start_time": "2024-09-17T21:18:51.722Z"
   },
   {
    "duration": 4,
    "start_time": "2024-09-17T21:19:05.954Z"
   },
   {
    "duration": 3,
    "start_time": "2024-09-17T21:19:26.719Z"
   },
   {
    "duration": 133,
    "start_time": "2024-09-17T21:19:32.124Z"
   },
   {
    "duration": 19,
    "start_time": "2024-09-17T21:19:44.868Z"
   },
   {
    "duration": 18,
    "start_time": "2024-09-17T21:19:55.922Z"
   },
   {
    "duration": 17,
    "start_time": "2024-09-17T21:20:03.825Z"
   },
   {
    "duration": 14,
    "start_time": "2024-09-17T21:20:42.302Z"
   },
   {
    "duration": 15,
    "start_time": "2024-09-17T21:23:14.489Z"
   },
   {
    "duration": 19,
    "start_time": "2024-09-17T21:23:27.851Z"
   },
   {
    "duration": 3,
    "start_time": "2024-09-17T21:31:45.165Z"
   },
   {
    "duration": 5,
    "start_time": "2024-09-17T21:32:01.008Z"
   },
   {
    "duration": 12,
    "start_time": "2024-09-17T21:32:48.894Z"
   },
   {
    "duration": 23,
    "start_time": "2024-09-17T21:33:06.021Z"
   },
   {
    "duration": 11,
    "start_time": "2024-09-17T21:33:28.162Z"
   },
   {
    "duration": 10,
    "start_time": "2024-09-17T21:33:45.863Z"
   },
   {
    "duration": 7,
    "start_time": "2024-09-17T21:42:31.612Z"
   },
   {
    "duration": 9,
    "start_time": "2024-09-17T21:42:47.438Z"
   },
   {
    "duration": 8,
    "start_time": "2024-09-17T21:43:26.184Z"
   },
   {
    "duration": 11,
    "start_time": "2024-09-17T21:43:31.768Z"
   },
   {
    "duration": 6,
    "start_time": "2024-09-17T21:44:32.731Z"
   },
   {
    "duration": 10,
    "start_time": "2024-09-17T21:44:42.143Z"
   },
   {
    "duration": 5,
    "start_time": "2024-09-17T21:45:07.206Z"
   },
   {
    "duration": 12,
    "start_time": "2024-09-17T21:45:52.407Z"
   },
   {
    "duration": 16,
    "start_time": "2024-09-17T21:47:16.979Z"
   },
   {
    "duration": 10,
    "start_time": "2024-09-17T22:10:13.623Z"
   },
   {
    "duration": 10,
    "start_time": "2024-09-17T22:11:06.481Z"
   },
   {
    "duration": 203,
    "start_time": "2024-09-17T22:11:28.000Z"
   },
   {
    "duration": 11,
    "start_time": "2024-09-17T22:11:36.381Z"
   },
   {
    "duration": 11,
    "start_time": "2024-09-17T22:12:31.818Z"
   },
   {
    "duration": 9,
    "start_time": "2024-09-17T22:15:52.016Z"
   },
   {
    "duration": 11,
    "start_time": "2024-09-17T22:17:30.365Z"
   },
   {
    "duration": 11,
    "start_time": "2024-09-17T22:26:29.393Z"
   },
   {
    "duration": 12,
    "start_time": "2024-09-17T22:36:58.777Z"
   },
   {
    "duration": 14,
    "start_time": "2024-09-17T22:37:41.967Z"
   },
   {
    "duration": 12,
    "start_time": "2024-09-17T22:37:44.784Z"
   },
   {
    "duration": 5,
    "start_time": "2024-09-17T22:37:46.867Z"
   },
   {
    "duration": 91,
    "start_time": "2024-09-17T22:37:48.835Z"
   },
   {
    "duration": 11,
    "start_time": "2024-09-17T22:38:45.236Z"
   },
   {
    "duration": 11,
    "start_time": "2024-09-17T22:38:50.218Z"
   },
   {
    "duration": 4,
    "start_time": "2024-09-17T22:39:39.705Z"
   },
   {
    "duration": 42,
    "start_time": "2024-09-17T22:39:40.132Z"
   },
   {
    "duration": 6,
    "start_time": "2024-09-17T22:40:34.136Z"
   },
   {
    "duration": 37,
    "start_time": "2024-09-17T22:40:34.747Z"
   },
   {
    "duration": 4,
    "start_time": "2024-09-17T22:40:50.863Z"
   },
   {
    "duration": 40,
    "start_time": "2024-09-17T22:40:51.384Z"
   },
   {
    "duration": 11,
    "start_time": "2024-09-17T22:41:00.171Z"
   },
   {
    "duration": 5,
    "start_time": "2024-09-17T22:41:00.687Z"
   },
   {
    "duration": 38,
    "start_time": "2024-09-17T22:41:01.998Z"
   },
   {
    "duration": 6,
    "start_time": "2024-09-17T22:41:43.138Z"
   },
   {
    "duration": 9,
    "start_time": "2024-09-17T22:41:43.684Z"
   },
   {
    "duration": 12,
    "start_time": "2024-09-17T22:43:29.955Z"
   },
   {
    "duration": 41,
    "start_time": "2024-09-17T22:43:33.783Z"
   },
   {
    "duration": 12,
    "start_time": "2024-09-17T22:43:48.543Z"
   },
   {
    "duration": 32,
    "start_time": "2024-09-17T22:43:51.805Z"
   },
   {
    "duration": 5,
    "start_time": "2024-09-17T22:43:54.105Z"
   },
   {
    "duration": 10,
    "start_time": "2024-09-17T22:43:55.991Z"
   },
   {
    "duration": 55,
    "start_time": "2024-09-17T22:44:18.112Z"
   },
   {
    "duration": 15,
    "start_time": "2024-09-17T22:44:25.364Z"
   },
   {
    "duration": 11,
    "start_time": "2024-09-17T22:44:25.669Z"
   },
   {
    "duration": 11,
    "start_time": "2024-09-17T22:44:26.054Z"
   },
   {
    "duration": 5,
    "start_time": "2024-09-17T22:44:26.242Z"
   },
   {
    "duration": 13,
    "start_time": "2024-09-17T22:44:26.419Z"
   },
   {
    "duration": 5,
    "start_time": "2024-09-17T23:22:51.009Z"
   },
   {
    "duration": 1993,
    "start_time": "2024-09-17T23:23:54.194Z"
   },
   {
    "duration": 12,
    "start_time": "2024-09-17T23:24:06.037Z"
   },
   {
    "duration": 13,
    "start_time": "2024-09-17T23:24:10.145Z"
   },
   {
    "duration": 3,
    "start_time": "2024-09-17T23:24:47.974Z"
   },
   {
    "duration": 80,
    "start_time": "2024-09-17T23:26:14.360Z"
   },
   {
    "duration": 16,
    "start_time": "2024-09-17T23:27:17.458Z"
   },
   {
    "duration": 99,
    "start_time": "2024-09-17T23:27:24.122Z"
   },
   {
    "duration": 92,
    "start_time": "2024-09-17T23:27:37.248Z"
   },
   {
    "duration": 13,
    "start_time": "2024-09-17T23:29:03.982Z"
   },
   {
    "duration": 2,
    "start_time": "2024-09-17T23:29:09.576Z"
   },
   {
    "duration": 94,
    "start_time": "2024-09-17T23:29:11.500Z"
   },
   {
    "duration": 103,
    "start_time": "2024-09-17T23:29:13.674Z"
   },
   {
    "duration": 14,
    "start_time": "2024-09-17T23:29:43.239Z"
   },
   {
    "duration": 98,
    "start_time": "2024-09-17T23:29:48.996Z"
   },
   {
    "duration": 115,
    "start_time": "2024-09-17T23:30:05.696Z"
   },
   {
    "duration": 12,
    "start_time": "2024-09-17T23:30:44.385Z"
   },
   {
    "duration": 203,
    "start_time": "2024-09-17T23:31:03.872Z"
   },
   {
    "duration": 120,
    "start_time": "2024-09-17T23:31:56.871Z"
   },
   {
    "duration": 10,
    "start_time": "2024-09-17T23:36:01.911Z"
   },
   {
    "duration": 5,
    "start_time": "2024-09-17T23:36:05.410Z"
   },
   {
    "duration": 17,
    "start_time": "2024-09-17T23:36:07.176Z"
   },
   {
    "duration": 3,
    "start_time": "2024-09-17T23:36:10.277Z"
   },
   {
    "duration": 88,
    "start_time": "2024-09-17T23:36:11.175Z"
   },
   {
    "duration": 81,
    "start_time": "2024-09-17T23:36:23.270Z"
   },
   {
    "duration": 13,
    "start_time": "2024-09-17T23:37:55.873Z"
   },
   {
    "duration": 12,
    "start_time": "2024-09-17T23:38:05.703Z"
   },
   {
    "duration": 82,
    "start_time": "2024-09-17T23:38:25.041Z"
   },
   {
    "duration": 106,
    "start_time": "2024-09-17T23:38:36.313Z"
   },
   {
    "duration": 103,
    "start_time": "2024-09-17T23:39:27.063Z"
   },
   {
    "duration": 15,
    "start_time": "2024-09-17T23:43:38.341Z"
   },
   {
    "duration": 4,
    "start_time": "2024-09-17T23:43:41.618Z"
   },
   {
    "duration": 16,
    "start_time": "2024-09-17T23:43:42.027Z"
   },
   {
    "duration": 100,
    "start_time": "2024-09-17T23:43:52.927Z"
   },
   {
    "duration": 17,
    "start_time": "2024-09-17T23:44:39.667Z"
   },
   {
    "duration": 165,
    "start_time": "2024-09-17T23:44:43.803Z"
   },
   {
    "duration": 52,
    "start_time": "2024-09-17T23:45:47.520Z"
   },
   {
    "duration": 114,
    "start_time": "2024-09-17T23:46:14.251Z"
   },
   {
    "duration": 642,
    "start_time": "2024-09-17T23:46:47.054Z"
   },
   {
    "duration": 94,
    "start_time": "2024-09-17T23:47:22.359Z"
   },
   {
    "duration": 94,
    "start_time": "2024-09-17T23:47:53.335Z"
   },
   {
    "duration": 93,
    "start_time": "2024-09-17T23:48:02.859Z"
   },
   {
    "duration": 95,
    "start_time": "2024-09-17T23:48:34.293Z"
   },
   {
    "duration": 92,
    "start_time": "2024-09-17T23:48:57.729Z"
   },
   {
    "duration": 455,
    "start_time": "2024-09-17T23:49:28.489Z"
   },
   {
    "duration": 93,
    "start_time": "2024-09-17T23:49:37.694Z"
   },
   {
    "duration": 13,
    "start_time": "2024-09-17T23:51:00.470Z"
   },
   {
    "duration": 91,
    "start_time": "2024-09-17T23:51:08.970Z"
   },
   {
    "duration": 17,
    "start_time": "2024-09-17T23:52:17.609Z"
   },
   {
    "duration": 190,
    "start_time": "2024-09-17T23:52:30.113Z"
   },
   {
    "duration": 179,
    "start_time": "2024-09-17T23:52:58.477Z"
   },
   {
    "duration": 455,
    "start_time": "2024-09-17T23:53:34.597Z"
   },
   {
    "duration": 179,
    "start_time": "2024-09-17T23:53:40.757Z"
   },
   {
    "duration": 201,
    "start_time": "2024-09-17T23:53:46.866Z"
   },
   {
    "duration": 187,
    "start_time": "2024-09-17T23:54:04.192Z"
   },
   {
    "duration": 182,
    "start_time": "2024-09-17T23:55:05.561Z"
   },
   {
    "duration": 177,
    "start_time": "2024-09-17T23:55:13.086Z"
   },
   {
    "duration": 191,
    "start_time": "2024-09-17T23:55:16.681Z"
   },
   {
    "duration": 195,
    "start_time": "2024-09-17T23:55:20.859Z"
   },
   {
    "duration": 188,
    "start_time": "2024-09-17T23:56:48.155Z"
   },
   {
    "duration": 44,
    "start_time": "2024-09-18T00:00:06.226Z"
   },
   {
    "duration": 90,
    "start_time": "2024-09-18T00:00:13.591Z"
   },
   {
    "duration": 206,
    "start_time": "2024-09-18T00:00:16.105Z"
   },
   {
    "duration": 217,
    "start_time": "2024-09-18T00:00:21.414Z"
   },
   {
    "duration": 44,
    "start_time": "2024-09-18T00:01:52.308Z"
   },
   {
    "duration": 5,
    "start_time": "2024-09-18T00:02:14.710Z"
   },
   {
    "duration": 4,
    "start_time": "2024-09-18T00:02:32.447Z"
   },
   {
    "duration": 5,
    "start_time": "2024-09-18T00:02:36.156Z"
   },
   {
    "duration": 166,
    "start_time": "2024-09-18T01:24:08.942Z"
   },
   {
    "duration": 604,
    "start_time": "2024-09-18T01:24:19.489Z"
   },
   {
    "duration": 234,
    "start_time": "2024-09-18T01:24:20.095Z"
   },
   {
    "duration": 11,
    "start_time": "2024-09-18T01:24:20.656Z"
   },
   {
    "duration": 5,
    "start_time": "2024-09-18T01:24:20.856Z"
   },
   {
    "duration": 5,
    "start_time": "2024-09-18T01:24:21.243Z"
   },
   {
    "duration": 9,
    "start_time": "2024-09-18T01:24:28.915Z"
   },
   {
    "duration": 6,
    "start_time": "2024-09-18T01:24:29.128Z"
   },
   {
    "duration": 4,
    "start_time": "2024-09-18T01:24:32.207Z"
   },
   {
    "duration": 6,
    "start_time": "2024-09-18T01:24:35.583Z"
   },
   {
    "duration": 28,
    "start_time": "2024-09-18T01:27:37.257Z"
   },
   {
    "duration": 8,
    "start_time": "2024-09-18T01:27:37.937Z"
   },
   {
    "duration": 17,
    "start_time": "2024-09-18T01:27:47.568Z"
   },
   {
    "duration": 9,
    "start_time": "2024-09-18T01:27:49.099Z"
   },
   {
    "duration": 9,
    "start_time": "2024-09-18T01:27:58.600Z"
   },
   {
    "duration": 9,
    "start_time": "2024-09-18T01:27:58.980Z"
   },
   {
    "duration": 14,
    "start_time": "2024-09-18T01:28:03.681Z"
   },
   {
    "duration": 6,
    "start_time": "2024-09-18T01:28:04.352Z"
   },
   {
    "duration": 11,
    "start_time": "2024-09-18T01:28:29.596Z"
   },
   {
    "duration": 6,
    "start_time": "2024-09-18T01:28:30.806Z"
   },
   {
    "duration": 8,
    "start_time": "2024-09-18T01:28:31.212Z"
   },
   {
    "duration": 19,
    "start_time": "2024-09-18T01:29:18.322Z"
   },
   {
    "duration": 8,
    "start_time": "2024-09-18T01:29:19.462Z"
   },
   {
    "duration": 11,
    "start_time": "2024-09-18T01:29:19.864Z"
   },
   {
    "duration": 64,
    "start_time": "2024-09-18T01:31:32.912Z"
   },
   {
    "duration": 7,
    "start_time": "2024-09-18T01:31:33.353Z"
   },
   {
    "duration": 14,
    "start_time": "2024-09-18T01:31:35.478Z"
   },
   {
    "duration": 16,
    "start_time": "2024-09-18T01:31:36.547Z"
   },
   {
    "duration": 8,
    "start_time": "2024-09-18T01:31:37.303Z"
   },
   {
    "duration": 15,
    "start_time": "2024-09-18T01:31:46.935Z"
   },
   {
    "duration": 10,
    "start_time": "2024-09-18T01:31:47.806Z"
   },
   {
    "duration": 5,
    "start_time": "2024-09-18T01:34:25.310Z"
   },
   {
    "duration": 17,
    "start_time": "2024-09-18T01:34:27.541Z"
   },
   {
    "duration": 419,
    "start_time": "2024-09-18T01:48:46.037Z"
   },
   {
    "duration": 8,
    "start_time": "2024-09-18T01:49:10.032Z"
   },
   {
    "duration": 6,
    "start_time": "2024-09-18T01:49:10.277Z"
   },
   {
    "duration": 4,
    "start_time": "2024-09-18T01:49:10.837Z"
   },
   {
    "duration": 17,
    "start_time": "2024-09-18T01:49:11.218Z"
   },
   {
    "duration": 14,
    "start_time": "2024-09-18T01:49:11.421Z"
   },
   {
    "duration": 12,
    "start_time": "2024-09-18T01:49:11.631Z"
   },
   {
    "duration": 43,
    "start_time": "2024-09-18T01:49:11.824Z"
   },
   {
    "duration": 14,
    "start_time": "2024-09-18T01:49:12.225Z"
   },
   {
    "duration": 11,
    "start_time": "2024-09-18T01:49:12.414Z"
   },
   {
    "duration": 12,
    "start_time": "2024-09-18T01:49:13.229Z"
   },
   {
    "duration": 4,
    "start_time": "2024-09-18T01:49:14.205Z"
   },
   {
    "duration": 15,
    "start_time": "2024-09-18T01:49:15.676Z"
   },
   {
    "duration": 47,
    "start_time": "2024-09-18T01:51:30.128Z"
   },
   {
    "duration": 12,
    "start_time": "2024-09-18T01:52:11.146Z"
   },
   {
    "duration": 43,
    "start_time": "2024-09-18T01:52:11.850Z"
   },
   {
    "duration": 46,
    "start_time": "2024-09-18T01:55:00.981Z"
   },
   {
    "duration": 13,
    "start_time": "2024-09-18T01:55:10.787Z"
   },
   {
    "duration": 692,
    "start_time": "2024-09-18T22:36:44.739Z"
   },
   {
    "duration": 260,
    "start_time": "2024-09-18T22:36:47.709Z"
   },
   {
    "duration": 11,
    "start_time": "2024-09-18T22:36:48.479Z"
   },
   {
    "duration": 7,
    "start_time": "2024-09-18T22:36:48.688Z"
   },
   {
    "duration": 11,
    "start_time": "2024-09-18T22:36:50.701Z"
   },
   {
    "duration": 8,
    "start_time": "2024-09-18T22:36:50.901Z"
   },
   {
    "duration": 4,
    "start_time": "2024-09-18T22:36:51.911Z"
   },
   {
    "duration": 6,
    "start_time": "2024-09-18T22:36:52.527Z"
   },
   {
    "duration": 17,
    "start_time": "2024-09-18T22:36:52.930Z"
   },
   {
    "duration": 9,
    "start_time": "2024-09-18T22:36:53.146Z"
   },
   {
    "duration": 21,
    "start_time": "2024-09-18T22:36:54.167Z"
   },
   {
    "duration": 10,
    "start_time": "2024-09-18T22:36:54.776Z"
   },
   {
    "duration": 10,
    "start_time": "2024-09-18T22:36:54.995Z"
   },
   {
    "duration": 14,
    "start_time": "2024-09-18T22:36:55.406Z"
   },
   {
    "duration": 6,
    "start_time": "2024-09-18T22:36:55.609Z"
   },
   {
    "duration": 11,
    "start_time": "2024-09-18T22:36:56.443Z"
   },
   {
    "duration": 6,
    "start_time": "2024-09-18T22:36:57.090Z"
   },
   {
    "duration": 10,
    "start_time": "2024-09-18T22:36:57.310Z"
   },
   {
    "duration": 16,
    "start_time": "2024-09-18T22:36:57.723Z"
   },
   {
    "duration": 8,
    "start_time": "2024-09-18T22:36:57.934Z"
   },
   {
    "duration": 17,
    "start_time": "2024-09-18T22:36:58.995Z"
   },
   {
    "duration": 14,
    "start_time": "2024-09-18T22:36:59.656Z"
   },
   {
    "duration": 10,
    "start_time": "2024-09-18T22:36:59.875Z"
   },
   {
    "duration": 6,
    "start_time": "2024-09-18T22:37:00.506Z"
   },
   {
    "duration": 17,
    "start_time": "2024-09-18T22:37:00.942Z"
   },
   {
    "duration": 15,
    "start_time": "2024-09-18T22:37:01.173Z"
   },
   {
    "duration": 11,
    "start_time": "2024-09-18T22:37:01.395Z"
   },
   {
    "duration": 14,
    "start_time": "2024-09-18T22:37:01.618Z"
   },
   {
    "duration": 16,
    "start_time": "2024-09-18T22:37:02.046Z"
   },
   {
    "duration": 13,
    "start_time": "2024-09-18T22:37:02.268Z"
   },
   {
    "duration": 13,
    "start_time": "2024-09-18T22:37:02.705Z"
   },
   {
    "duration": 5,
    "start_time": "2024-09-18T22:37:02.927Z"
   },
   {
    "duration": 16,
    "start_time": "2024-09-18T22:37:03.156Z"
   },
   {
    "duration": 2121,
    "start_time": "2024-09-18T22:37:03.838Z"
   },
   {
    "duration": 120,
    "start_time": "2024-09-18T22:37:05.962Z"
   },
   {
    "duration": 234,
    "start_time": "2024-09-18T22:37:06.084Z"
   },
   {
    "duration": 5,
    "start_time": "2024-09-18T22:37:06.787Z"
   },
   {
    "duration": 3,
    "start_time": "2024-09-18T22:37:08.539Z"
   },
   {
    "duration": 2,
    "start_time": "2024-09-18T22:37:12.915Z"
   },
   {
    "duration": 2,
    "start_time": "2024-09-18T22:37:13.171Z"
   },
   {
    "duration": 202,
    "start_time": "2024-09-18T22:38:43.223Z"
   },
   {
    "duration": 89,
    "start_time": "2024-09-18T22:41:29.752Z"
   },
   {
    "duration": 4,
    "start_time": "2024-09-18T22:42:14.944Z"
   },
   {
    "duration": 19,
    "start_time": "2024-09-18T22:42:18.493Z"
   },
   {
    "duration": 19,
    "start_time": "2024-09-18T22:42:55.448Z"
   },
   {
    "duration": 4,
    "start_time": "2024-09-18T22:43:46.792Z"
   },
   {
    "duration": 110,
    "start_time": "2024-09-18T22:44:31.625Z"
   },
   {
    "duration": 106,
    "start_time": "2024-09-18T22:44:40.394Z"
   },
   {
    "duration": 105,
    "start_time": "2024-09-18T22:45:13.544Z"
   },
   {
    "duration": 5,
    "start_time": "2024-09-18T22:46:05.271Z"
   },
   {
    "duration": 106,
    "start_time": "2024-09-18T22:46:18.328Z"
   },
   {
    "duration": 118,
    "start_time": "2024-09-18T22:47:22.358Z"
   },
   {
    "duration": 17,
    "start_time": "2024-09-18T22:49:50.042Z"
   },
   {
    "duration": 8,
    "start_time": "2024-09-18T23:01:20.812Z"
   },
   {
    "duration": 15,
    "start_time": "2024-09-18T23:07:12.176Z"
   },
   {
    "duration": 16,
    "start_time": "2024-09-18T23:07:17.525Z"
   },
   {
    "duration": 13,
    "start_time": "2024-09-18T23:07:22.601Z"
   },
   {
    "duration": 12,
    "start_time": "2024-09-18T23:07:34.425Z"
   },
   {
    "duration": 4,
    "start_time": "2024-09-18T23:07:39.592Z"
   },
   {
    "duration": 16,
    "start_time": "2024-09-18T23:07:39.785Z"
   },
   {
    "duration": 3,
    "start_time": "2024-09-18T23:07:43.346Z"
   },
   {
    "duration": 95,
    "start_time": "2024-09-18T23:07:43.791Z"
   },
   {
    "duration": 202,
    "start_time": "2024-09-18T23:07:46.345Z"
   },
   {
    "duration": 4,
    "start_time": "2024-09-18T23:07:50.108Z"
   },
   {
    "duration": 105,
    "start_time": "2024-09-18T23:07:50.918Z"
   },
   {
    "duration": 200,
    "start_time": "2024-09-18T23:09:18.467Z"
   },
   {
    "duration": 216,
    "start_time": "2024-09-18T23:09:51.097Z"
   },
   {
    "duration": 202,
    "start_time": "2024-09-18T23:11:30.871Z"
   },
   {
    "duration": 314,
    "start_time": "2024-09-18T23:12:14.166Z"
   },
   {
    "duration": 203,
    "start_time": "2024-09-18T23:15:24.149Z"
   },
   {
    "duration": 204,
    "start_time": "2024-09-18T23:15:53.798Z"
   },
   {
    "duration": 206,
    "start_time": "2024-09-18T23:16:32.527Z"
   },
   {
    "duration": 219,
    "start_time": "2024-09-18T23:17:14.712Z"
   },
   {
    "duration": 16,
    "start_time": "2024-09-18T23:19:29.504Z"
   },
   {
    "duration": 14,
    "start_time": "2024-09-18T23:19:33.195Z"
   },
   {
    "duration": 12,
    "start_time": "2024-09-18T23:19:35.754Z"
   },
   {
    "duration": 5,
    "start_time": "2024-09-18T23:19:38.126Z"
   },
   {
    "duration": 16,
    "start_time": "2024-09-18T23:19:38.517Z"
   },
   {
    "duration": 5,
    "start_time": "2024-09-18T23:19:41.660Z"
   },
   {
    "duration": 96,
    "start_time": "2024-09-18T23:19:43.553Z"
   },
   {
    "duration": 206,
    "start_time": "2024-09-18T23:19:43.741Z"
   },
   {
    "duration": 5,
    "start_time": "2024-09-18T23:19:45.730Z"
   },
   {
    "duration": 106,
    "start_time": "2024-09-18T23:19:46.105Z"
   },
   {
    "duration": 208,
    "start_time": "2024-09-18T23:19:50.884Z"
   },
   {
    "duration": 214,
    "start_time": "2024-09-18T23:19:51.104Z"
   },
   {
    "duration": 214,
    "start_time": "2024-09-18T23:20:09.122Z"
   },
   {
    "duration": 204,
    "start_time": "2024-09-18T23:23:49.158Z"
   },
   {
    "duration": 130,
    "start_time": "2024-09-18T23:24:32.373Z"
   },
   {
    "duration": 118,
    "start_time": "2024-09-18T23:25:12.441Z"
   },
   {
    "duration": 137,
    "start_time": "2024-09-18T23:25:28.240Z"
   },
   {
    "duration": 110,
    "start_time": "2024-09-18T23:25:46.463Z"
   },
   {
    "duration": 106,
    "start_time": "2024-09-18T23:29:58.447Z"
   },
   {
    "duration": 117,
    "start_time": "2024-09-18T23:30:09.295Z"
   },
   {
    "duration": 197,
    "start_time": "2024-09-18T23:30:13.283Z"
   },
   {
    "duration": 258,
    "start_time": "2024-09-18T23:30:50.574Z"
   },
   {
    "duration": 114,
    "start_time": "2024-09-18T23:31:15.520Z"
   },
   {
    "duration": 109,
    "start_time": "2024-09-18T23:32:52.193Z"
   },
   {
    "duration": 13,
    "start_time": "2024-09-18T23:34:18.711Z"
   },
   {
    "duration": 14,
    "start_time": "2024-09-18T23:34:27.273Z"
   },
   {
    "duration": 17,
    "start_time": "2024-09-18T23:34:59.982Z"
   },
   {
    "duration": 2,
    "start_time": "2024-09-18T23:35:20.758Z"
   },
   {
    "duration": 172,
    "start_time": "2024-09-18T23:35:21.155Z"
   },
   {
    "duration": 9,
    "start_time": "2024-09-18T23:35:21.930Z"
   },
   {
    "duration": 4,
    "start_time": "2024-09-18T23:35:22.106Z"
   },
   {
    "duration": 8,
    "start_time": "2024-09-18T23:35:24.007Z"
   },
   {
    "duration": 6,
    "start_time": "2024-09-18T23:35:24.232Z"
   },
   {
    "duration": 4,
    "start_time": "2024-09-18T23:35:25.210Z"
   },
   {
    "duration": 7,
    "start_time": "2024-09-18T23:35:25.803Z"
   },
   {
    "duration": 17,
    "start_time": "2024-09-18T23:35:26.205Z"
   },
   {
    "duration": 8,
    "start_time": "2024-09-18T23:35:26.394Z"
   },
   {
    "duration": 22,
    "start_time": "2024-09-18T23:35:27.407Z"
   },
   {
    "duration": 9,
    "start_time": "2024-09-18T23:35:28.017Z"
   },
   {
    "duration": 9,
    "start_time": "2024-09-18T23:35:28.211Z"
   },
   {
    "duration": 12,
    "start_time": "2024-09-18T23:35:28.616Z"
   },
   {
    "duration": 6,
    "start_time": "2024-09-18T23:35:28.791Z"
   },
   {
    "duration": 13,
    "start_time": "2024-09-18T23:35:29.642Z"
   },
   {
    "duration": 6,
    "start_time": "2024-09-18T23:35:30.246Z"
   },
   {
    "duration": 6,
    "start_time": "2024-09-18T23:35:30.462Z"
   },
   {
    "duration": 16,
    "start_time": "2024-09-18T23:35:30.860Z"
   },
   {
    "duration": 9,
    "start_time": "2024-09-18T23:35:31.084Z"
   },
   {
    "duration": 17,
    "start_time": "2024-09-18T23:35:32.121Z"
   },
   {
    "duration": 9,
    "start_time": "2024-09-18T23:35:32.732Z"
   },
   {
    "duration": 9,
    "start_time": "2024-09-18T23:35:32.958Z"
   },
   {
    "duration": 5,
    "start_time": "2024-09-18T23:35:33.663Z"
   },
   {
    "duration": 17,
    "start_time": "2024-09-18T23:35:34.142Z"
   },
   {
    "duration": 13,
    "start_time": "2024-09-18T23:35:34.386Z"
   },
   {
    "duration": 12,
    "start_time": "2024-09-18T23:35:34.594Z"
   },
   {
    "duration": 12,
    "start_time": "2024-09-18T23:35:34.815Z"
   },
   {
    "duration": 17,
    "start_time": "2024-09-18T23:35:35.218Z"
   },
   {
    "duration": 19,
    "start_time": "2024-09-18T23:35:36.057Z"
   },
   {
    "duration": 12,
    "start_time": "2024-09-18T23:35:37.111Z"
   },
   {
    "duration": 9,
    "start_time": "2024-09-18T23:35:37.451Z"
   },
   {
    "duration": 14,
    "start_time": "2024-09-18T23:35:37.790Z"
   },
   {
    "duration": 3,
    "start_time": "2024-09-18T23:35:41.476Z"
   },
   {
    "duration": 94,
    "start_time": "2024-09-18T23:35:41.727Z"
   },
   {
    "duration": 194,
    "start_time": "2024-09-18T23:35:41.918Z"
   },
   {
    "duration": 5,
    "start_time": "2024-09-18T23:35:42.317Z"
   },
   {
    "duration": 99,
    "start_time": "2024-09-18T23:35:42.518Z"
   },
   {
    "duration": 206,
    "start_time": "2024-09-18T23:35:44.106Z"
   },
   {
    "duration": 242,
    "start_time": "2024-09-18T23:35:44.733Z"
   },
   {
    "duration": 21,
    "start_time": "2024-09-18T23:36:55.062Z"
   },
   {
    "duration": 21,
    "start_time": "2024-09-18T23:37:00.095Z"
   },
   {
    "duration": 10,
    "start_time": "2024-09-18T23:37:06.867Z"
   },
   {
    "duration": 9,
    "start_time": "2024-09-18T23:37:14.304Z"
   },
   {
    "duration": 9,
    "start_time": "2024-09-18T23:37:22.336Z"
   },
   {
    "duration": 18,
    "start_time": "2024-09-18T23:37:33.730Z"
   },
   {
    "duration": 11,
    "start_time": "2024-09-18T23:37:38.727Z"
   },
   {
    "duration": 14,
    "start_time": "2024-09-18T23:37:52.095Z"
   },
   {
    "duration": 44,
    "start_time": "2024-09-18T23:39:20.818Z"
   },
   {
    "duration": 2,
    "start_time": "2024-09-18T23:39:47.409Z"
   },
   {
    "duration": 166,
    "start_time": "2024-09-18T23:39:47.950Z"
   },
   {
    "duration": 9,
    "start_time": "2024-09-18T23:39:48.731Z"
   },
   {
    "duration": 6,
    "start_time": "2024-09-18T23:39:48.910Z"
   },
   {
    "duration": 10,
    "start_time": "2024-09-18T23:39:50.799Z"
   },
   {
    "duration": 6,
    "start_time": "2024-09-18T23:39:50.974Z"
   },
   {
    "duration": 4,
    "start_time": "2024-09-18T23:39:51.941Z"
   },
   {
    "duration": 7,
    "start_time": "2024-09-18T23:39:52.508Z"
   },
   {
    "duration": 17,
    "start_time": "2024-09-18T23:39:52.894Z"
   },
   {
    "duration": 7,
    "start_time": "2024-09-18T23:39:53.050Z"
   },
   {
    "duration": 20,
    "start_time": "2024-09-18T23:39:53.998Z"
   },
   {
    "duration": 10,
    "start_time": "2024-09-18T23:39:54.558Z"
   },
   {
    "duration": 8,
    "start_time": "2024-09-18T23:39:54.748Z"
   },
   {
    "duration": 13,
    "start_time": "2024-09-18T23:39:55.133Z"
   },
   {
    "duration": 7,
    "start_time": "2024-09-18T23:39:55.326Z"
   },
   {
    "duration": 14,
    "start_time": "2024-09-18T23:39:56.094Z"
   },
   {
    "duration": 6,
    "start_time": "2024-09-18T23:39:56.673Z"
   },
   {
    "duration": 7,
    "start_time": "2024-09-18T23:39:56.863Z"
   },
   {
    "duration": 15,
    "start_time": "2024-09-18T23:39:57.257Z"
   },
   {
    "duration": 7,
    "start_time": "2024-09-18T23:39:57.441Z"
   },
   {
    "duration": 16,
    "start_time": "2024-09-18T23:39:58.439Z"
   },
   {
    "duration": 8,
    "start_time": "2024-09-18T23:39:59.006Z"
   },
   {
    "duration": 9,
    "start_time": "2024-09-18T23:39:59.232Z"
   },
   {
    "duration": 5,
    "start_time": "2024-09-18T23:39:59.863Z"
   },
   {
    "duration": 15,
    "start_time": "2024-09-18T23:40:00.276Z"
   },
   {
    "duration": 12,
    "start_time": "2024-09-18T23:40:00.485Z"
   },
   {
    "duration": 11,
    "start_time": "2024-09-18T23:40:00.679Z"
   },
   {
    "duration": 12,
    "start_time": "2024-09-18T23:40:00.868Z"
   },
   {
    "duration": 17,
    "start_time": "2024-09-18T23:40:01.253Z"
   },
   {
    "duration": 12,
    "start_time": "2024-09-18T23:40:01.481Z"
   },
   {
    "duration": 12,
    "start_time": "2024-09-18T23:40:01.880Z"
   },
   {
    "duration": 5,
    "start_time": "2024-09-18T23:40:02.084Z"
   },
   {
    "duration": 16,
    "start_time": "2024-09-18T23:40:02.313Z"
   },
   {
    "duration": 2,
    "start_time": "2024-09-18T23:40:02.941Z"
   },
   {
    "duration": 96,
    "start_time": "2024-09-18T23:40:03.354Z"
   },
   {
    "duration": 189,
    "start_time": "2024-09-18T23:40:03.558Z"
   },
   {
    "duration": 5,
    "start_time": "2024-09-18T23:40:04.372Z"
   },
   {
    "duration": 102,
    "start_time": "2024-09-18T23:40:04.618Z"
   },
   {
    "duration": 199,
    "start_time": "2024-09-18T23:40:05.321Z"
   },
   {
    "duration": 319,
    "start_time": "2024-09-18T23:40:05.524Z"
   },
   {
    "duration": 109,
    "start_time": "2024-09-18T23:40:06.427Z"
   },
   {
    "duration": 131,
    "start_time": "2024-09-18T23:40:14.539Z"
   },
   {
    "duration": 195,
    "start_time": "2024-09-18T23:40:16.419Z"
   },
   {
    "duration": 106,
    "start_time": "2024-09-18T23:40:16.723Z"
   },
   {
    "duration": 196,
    "start_time": "2024-09-18T23:40:50.702Z"
   },
   {
    "duration": 102,
    "start_time": "2024-09-18T23:41:20.826Z"
   },
   {
    "duration": 103,
    "start_time": "2024-09-18T23:41:31.397Z"
   },
   {
    "duration": 108,
    "start_time": "2024-09-18T23:41:50.335Z"
   },
   {
    "duration": 121,
    "start_time": "2024-09-18T23:42:03.801Z"
   },
   {
    "duration": 197,
    "start_time": "2024-09-18T23:42:05.691Z"
   },
   {
    "duration": 110,
    "start_time": "2024-09-18T23:42:06.111Z"
   },
   {
    "duration": 588,
    "start_time": "2024-09-19T15:20:25.643Z"
   },
   {
    "duration": 298,
    "start_time": "2024-09-19T15:20:26.232Z"
   },
   {
    "duration": 14,
    "start_time": "2024-09-19T15:20:26.986Z"
   },
   {
    "duration": 6,
    "start_time": "2024-09-19T15:20:27.189Z"
   },
   {
    "duration": 9,
    "start_time": "2024-09-19T15:20:29.114Z"
   },
   {
    "duration": 7,
    "start_time": "2024-09-19T15:20:29.165Z"
   },
   {
    "duration": 4,
    "start_time": "2024-09-19T15:20:30.431Z"
   },
   {
    "duration": 6,
    "start_time": "2024-09-19T15:20:31.110Z"
   },
   {
    "duration": 16,
    "start_time": "2024-09-19T15:20:31.541Z"
   },
   {
    "duration": 8,
    "start_time": "2024-09-19T15:20:31.768Z"
   },
   {
    "duration": 20,
    "start_time": "2024-09-19T15:20:32.814Z"
   },
   {
    "duration": 9,
    "start_time": "2024-09-19T15:20:33.415Z"
   },
   {
    "duration": 9,
    "start_time": "2024-09-19T15:20:33.577Z"
   },
   {
    "duration": 18,
    "start_time": "2024-09-19T15:20:34.023Z"
   },
   {
    "duration": 6,
    "start_time": "2024-09-19T15:20:34.237Z"
   },
   {
    "duration": 14,
    "start_time": "2024-09-19T15:20:35.035Z"
   },
   {
    "duration": 6,
    "start_time": "2024-09-19T15:20:35.691Z"
   },
   {
    "duration": 6,
    "start_time": "2024-09-19T15:20:35.886Z"
   },
   {
    "duration": 14,
    "start_time": "2024-09-19T15:20:36.345Z"
   },
   {
    "duration": 7,
    "start_time": "2024-09-19T15:20:36.557Z"
   },
   {
    "duration": 16,
    "start_time": "2024-09-19T15:20:37.646Z"
   },
   {
    "duration": 8,
    "start_time": "2024-09-19T15:20:49.514Z"
   },
   {
    "duration": 9,
    "start_time": "2024-09-19T15:20:49.744Z"
   },
   {
    "duration": 7,
    "start_time": "2024-09-19T15:20:50.504Z"
   },
   {
    "duration": 17,
    "start_time": "2024-09-19T15:20:50.940Z"
   },
   {
    "duration": 14,
    "start_time": "2024-09-19T15:20:51.160Z"
   },
   {
    "duration": 11,
    "start_time": "2024-09-19T15:20:51.382Z"
   },
   {
    "duration": 13,
    "start_time": "2024-09-19T15:20:51.608Z"
   },
   {
    "duration": 16,
    "start_time": "2024-09-19T15:20:52.079Z"
   },
   {
    "duration": 13,
    "start_time": "2024-09-19T15:20:52.351Z"
   },
   {
    "duration": 12,
    "start_time": "2024-09-19T15:20:52.781Z"
   },
   {
    "duration": 5,
    "start_time": "2024-09-19T15:20:53.019Z"
   },
   {
    "duration": 14,
    "start_time": "2024-09-19T15:20:53.471Z"
   },
   {
    "duration": 1932,
    "start_time": "2024-09-19T15:20:54.080Z"
   },
   {
    "duration": 106,
    "start_time": "2024-09-19T15:20:56.014Z"
   },
   {
    "duration": 208,
    "start_time": "2024-09-19T15:20:56.121Z"
   },
   {
    "duration": 5,
    "start_time": "2024-09-19T15:20:56.331Z"
   },
   {
    "duration": 116,
    "start_time": "2024-09-19T15:20:56.337Z"
   },
   {
    "duration": 261,
    "start_time": "2024-09-19T15:20:56.455Z"
   },
   {
    "duration": 211,
    "start_time": "2024-09-19T15:20:56.718Z"
   },
   {
    "duration": 115,
    "start_time": "2024-09-19T15:20:57.039Z"
   },
   {
    "duration": 120,
    "start_time": "2024-09-19T15:21:04.212Z"
   },
   {
    "duration": 198,
    "start_time": "2024-09-19T15:21:06.908Z"
   },
   {
    "duration": 98,
    "start_time": "2024-09-19T15:21:07.111Z"
   },
   {
    "duration": 4,
    "start_time": "2024-09-19T15:21:10.536Z"
   },
   {
    "duration": 221,
    "start_time": "2024-09-19T15:21:11.545Z"
   },
   {
    "duration": 7,
    "start_time": "2024-09-19T15:23:47.022Z"
   },
   {
    "duration": 6,
    "start_time": "2024-09-19T15:24:32.227Z"
   },
   {
    "duration": 4,
    "start_time": "2024-09-19T15:25:30.544Z"
   },
   {
    "duration": 4,
    "start_time": "2024-09-19T15:31:43.377Z"
   },
   {
    "duration": 18,
    "start_time": "2024-09-19T15:33:14.465Z"
   },
   {
    "duration": 8,
    "start_time": "2024-09-19T15:33:15.608Z"
   },
   {
    "duration": 20,
    "start_time": "2024-09-19T15:33:36.054Z"
   },
   {
    "duration": 9,
    "start_time": "2024-09-19T15:35:21.434Z"
   },
   {
    "duration": 9,
    "start_time": "2024-09-19T15:35:22.126Z"
   },
   {
    "duration": 4,
    "start_time": "2024-09-19T15:37:00.103Z"
   },
   {
    "duration": 14,
    "start_time": "2024-09-19T15:37:10.551Z"
   },
   {
    "duration": 6,
    "start_time": "2024-09-19T15:37:13.464Z"
   },
   {
    "duration": 13,
    "start_time": "2024-09-19T15:38:49.674Z"
   },
   {
    "duration": 7,
    "start_time": "2024-09-19T15:39:25.376Z"
   },
   {
    "duration": 9,
    "start_time": "2024-09-19T15:39:25.648Z"
   },
   {
    "duration": 4,
    "start_time": "2024-09-19T15:39:59.510Z"
   },
   {
    "duration": 16,
    "start_time": "2024-09-19T15:40:06.085Z"
   },
   {
    "duration": 7,
    "start_time": "2024-09-19T15:40:16.929Z"
   },
   {
    "duration": 15,
    "start_time": "2024-09-19T15:40:25.092Z"
   },
   {
    "duration": 3,
    "start_time": "2024-09-19T15:41:09.754Z"
   },
   {
    "duration": 8,
    "start_time": "2024-09-19T15:41:21.210Z"
   },
   {
    "duration": 10,
    "start_time": "2024-09-19T15:41:21.775Z"
   },
   {
    "duration": 6,
    "start_time": "2024-09-19T15:44:06.165Z"
   },
   {
    "duration": 15,
    "start_time": "2024-09-19T15:44:18.996Z"
   },
   {
    "duration": 12,
    "start_time": "2024-09-19T15:44:23.420Z"
   },
   {
    "duration": 10,
    "start_time": "2024-09-19T15:44:27.528Z"
   },
   {
    "duration": 12,
    "start_time": "2024-09-19T15:44:27.814Z"
   },
   {
    "duration": 16,
    "start_time": "2024-09-19T15:44:31.752Z"
   },
   {
    "duration": 12,
    "start_time": "2024-09-19T15:44:40.627Z"
   },
   {
    "duration": 12,
    "start_time": "2024-09-19T15:44:50.984Z"
   },
   {
    "duration": 4,
    "start_time": "2024-09-19T15:44:54.287Z"
   },
   {
    "duration": 14,
    "start_time": "2024-09-19T15:44:54.763Z"
   },
   {
    "duration": 2,
    "start_time": "2024-09-19T15:45:07.570Z"
   },
   {
    "duration": 96,
    "start_time": "2024-09-19T15:45:08.395Z"
   },
   {
    "duration": 278,
    "start_time": "2024-09-19T15:45:12.059Z"
   },
   {
    "duration": 4,
    "start_time": "2024-09-19T15:45:39.393Z"
   },
   {
    "duration": 104,
    "start_time": "2024-09-19T15:45:41.427Z"
   },
   {
    "duration": 648,
    "start_time": "2024-09-19T15:48:55.265Z"
   },
   {
    "duration": 91,
    "start_time": "2024-09-19T15:49:02.124Z"
   },
   {
    "duration": 4,
    "start_time": "2024-09-19T15:53:15.200Z"
   },
   {
    "duration": 106,
    "start_time": "2024-09-19T15:53:20.834Z"
   },
   {
    "duration": 77,
    "start_time": "2024-09-19T15:55:35.171Z"
   },
   {
    "duration": 96,
    "start_time": "2024-09-19T15:55:47.346Z"
   },
   {
    "duration": 45,
    "start_time": "2024-09-19T15:56:57.911Z"
   },
   {
    "duration": 3,
    "start_time": "2024-09-19T15:57:02.509Z"
   },
   {
    "duration": 47,
    "start_time": "2024-09-19T15:57:03.360Z"
   },
   {
    "duration": 15,
    "start_time": "2024-09-19T15:57:11.616Z"
   },
   {
    "duration": 2,
    "start_time": "2024-09-19T15:57:13.859Z"
   },
   {
    "duration": 44,
    "start_time": "2024-09-19T15:57:14.507Z"
   },
   {
    "duration": 3,
    "start_time": "2024-09-19T15:57:21.090Z"
   },
   {
    "duration": 155,
    "start_time": "2024-09-19T15:57:21.477Z"
   },
   {
    "duration": 9,
    "start_time": "2024-09-19T15:57:22.263Z"
   },
   {
    "duration": 5,
    "start_time": "2024-09-19T15:57:22.451Z"
   },
   {
    "duration": 10,
    "start_time": "2024-09-19T15:57:24.499Z"
   },
   {
    "duration": 6,
    "start_time": "2024-09-19T15:57:24.689Z"
   },
   {
    "duration": 3,
    "start_time": "2024-09-19T15:57:25.681Z"
   },
   {
    "duration": 7,
    "start_time": "2024-09-19T15:57:26.485Z"
   },
   {
    "duration": 20,
    "start_time": "2024-09-19T15:57:27.132Z"
   },
   {
    "duration": 6,
    "start_time": "2024-09-19T15:57:27.160Z"
   },
   {
    "duration": 31,
    "start_time": "2024-09-19T15:57:28.235Z"
   },
   {
    "duration": 9,
    "start_time": "2024-09-19T15:57:29.032Z"
   },
   {
    "duration": 8,
    "start_time": "2024-09-19T15:57:29.232Z"
   },
   {
    "duration": 13,
    "start_time": "2024-09-19T15:57:29.830Z"
   },
   {
    "duration": 6,
    "start_time": "2024-09-19T15:57:30.061Z"
   },
   {
    "duration": 12,
    "start_time": "2024-09-19T15:57:31.323Z"
   },
   {
    "duration": 6,
    "start_time": "2024-09-19T15:57:32.234Z"
   },
   {
    "duration": 7,
    "start_time": "2024-09-19T15:57:32.444Z"
   },
   {
    "duration": 14,
    "start_time": "2024-09-19T15:57:33.085Z"
   },
   {
    "duration": 7,
    "start_time": "2024-09-19T15:57:33.293Z"
   },
   {
    "duration": 16,
    "start_time": "2024-09-19T15:57:34.350Z"
   },
   {
    "duration": 7,
    "start_time": "2024-09-19T15:57:35.200Z"
   },
   {
    "duration": 9,
    "start_time": "2024-09-19T15:57:35.409Z"
   },
   {
    "duration": 5,
    "start_time": "2024-09-19T15:57:36.264Z"
   },
   {
    "duration": 15,
    "start_time": "2024-09-19T15:57:36.687Z"
   },
   {
    "duration": 11,
    "start_time": "2024-09-19T15:57:36.918Z"
   },
   {
    "duration": 12,
    "start_time": "2024-09-19T15:57:37.284Z"
   },
   {
    "duration": 11,
    "start_time": "2024-09-19T15:57:37.499Z"
   },
   {
    "duration": 15,
    "start_time": "2024-09-19T15:57:37.913Z"
   },
   {
    "duration": 12,
    "start_time": "2024-09-19T15:57:38.175Z"
   },
   {
    "duration": 12,
    "start_time": "2024-09-19T15:57:38.860Z"
   },
   {
    "duration": 5,
    "start_time": "2024-09-19T15:57:39.049Z"
   },
   {
    "duration": 14,
    "start_time": "2024-09-19T15:57:39.680Z"
   },
   {
    "duration": 2,
    "start_time": "2024-09-19T15:57:43.895Z"
   },
   {
    "duration": 45,
    "start_time": "2024-09-19T15:57:44.512Z"
   },
   {
    "duration": 44,
    "start_time": "2024-09-19T15:58:08.667Z"
   },
   {
    "duration": 92,
    "start_time": "2024-09-19T15:58:20.584Z"
   },
   {
    "duration": 96,
    "start_time": "2024-09-19T15:58:28.119Z"
   },
   {
    "duration": 190,
    "start_time": "2024-09-19T15:58:28.406Z"
   },
   {
    "duration": 480,
    "start_time": "2024-09-19T15:58:31.049Z"
   },
   {
    "duration": 0,
    "start_time": "2024-09-19T15:58:31.531Z"
   },
   {
    "duration": 4,
    "start_time": "2024-09-19T15:58:36.724Z"
   },
   {
    "duration": 101,
    "start_time": "2024-09-19T15:58:42.549Z"
   },
   {
    "duration": 4,
    "start_time": "2024-09-19T16:00:21.141Z"
   },
   {
    "duration": 238,
    "start_time": "2024-09-19T16:00:29.424Z"
   },
   {
    "duration": 44,
    "start_time": "2024-09-19T16:00:46.329Z"
   },
   {
    "duration": 96,
    "start_time": "2024-09-19T16:00:56.148Z"
   },
   {
    "duration": 193,
    "start_time": "2024-09-19T16:01:02.362Z"
   },
   {
    "duration": 4,
    "start_time": "2024-09-19T16:01:05.657Z"
   },
   {
    "duration": 105,
    "start_time": "2024-09-19T16:01:08.048Z"
   },
   {
    "duration": 6,
    "start_time": "2024-09-19T16:11:38.193Z"
   },
   {
    "duration": 3,
    "start_time": "2024-09-19T16:11:42.948Z"
   },
   {
    "duration": 274,
    "start_time": "2024-09-19T16:12:55.273Z"
   },
   {
    "duration": 207,
    "start_time": "2024-09-19T16:13:01.681Z"
   },
   {
    "duration": 129,
    "start_time": "2024-09-19T16:13:01.983Z"
   },
   {
    "duration": 105,
    "start_time": "2024-09-19T16:13:26.035Z"
   },
   {
    "duration": 107,
    "start_time": "2024-09-19T16:23:44.066Z"
   },
   {
    "duration": 127,
    "start_time": "2024-09-19T16:28:18.106Z"
   },
   {
    "duration": 220,
    "start_time": "2024-09-19T16:28:45.310Z"
   },
   {
    "duration": 113,
    "start_time": "2024-09-19T16:28:48.114Z"
   },
   {
    "duration": 107,
    "start_time": "2024-09-19T16:29:02.992Z"
   },
   {
    "duration": 228,
    "start_time": "2024-09-19T16:29:13.020Z"
   },
   {
    "duration": 601,
    "start_time": "2024-09-20T20:29:58.356Z"
   },
   {
    "duration": 240,
    "start_time": "2024-09-20T20:29:58.959Z"
   },
   {
    "duration": 10,
    "start_time": "2024-09-20T20:29:59.585Z"
   },
   {
    "duration": 6,
    "start_time": "2024-09-20T20:29:59.765Z"
   },
   {
    "duration": 8,
    "start_time": "2024-09-20T20:30:01.708Z"
   },
   {
    "duration": 6,
    "start_time": "2024-09-20T20:30:01.901Z"
   },
   {
    "duration": 4,
    "start_time": "2024-09-20T20:30:02.968Z"
   },
   {
    "duration": 5,
    "start_time": "2024-09-20T20:30:03.784Z"
   },
   {
    "duration": 16,
    "start_time": "2024-09-20T20:30:04.411Z"
   },
   {
    "duration": 7,
    "start_time": "2024-09-20T20:30:04.605Z"
   },
   {
    "duration": 20,
    "start_time": "2024-09-20T20:30:05.666Z"
   },
   {
    "duration": 9,
    "start_time": "2024-09-20T20:30:06.524Z"
   },
   {
    "duration": 9,
    "start_time": "2024-09-20T20:30:06.797Z"
   },
   {
    "duration": 5,
    "start_time": "2024-09-20T20:31:20.030Z"
   },
   {
    "duration": 16,
    "start_time": "2024-09-20T20:31:25.189Z"
   },
   {
    "duration": 7,
    "start_time": "2024-09-20T20:31:25.346Z"
   },
   {
    "duration": 17,
    "start_time": "2024-09-20T20:31:27.628Z"
   },
   {
    "duration": 9,
    "start_time": "2024-09-20T20:31:28.634Z"
   },
   {
    "duration": 8,
    "start_time": "2024-09-20T20:31:30.321Z"
   },
   {
    "duration": 11,
    "start_time": "2024-09-20T20:31:30.921Z"
   },
   {
    "duration": 5,
    "start_time": "2024-09-20T20:31:31.114Z"
   },
   {
    "duration": 11,
    "start_time": "2024-09-20T20:31:33.196Z"
   },
   {
    "duration": 6,
    "start_time": "2024-09-20T20:31:34.011Z"
   },
   {
    "duration": 6,
    "start_time": "2024-09-20T20:31:34.222Z"
   },
   {
    "duration": 14,
    "start_time": "2024-09-20T20:31:34.851Z"
   },
   {
    "duration": 7,
    "start_time": "2024-09-20T20:31:35.073Z"
   },
   {
    "duration": 15,
    "start_time": "2024-09-20T20:31:36.081Z"
   },
   {
    "duration": 8,
    "start_time": "2024-09-20T20:31:36.872Z"
   },
   {
    "duration": 9,
    "start_time": "2024-09-20T20:31:37.119Z"
   },
   {
    "duration": 4,
    "start_time": "2024-09-20T20:31:37.997Z"
   },
   {
    "duration": 17,
    "start_time": "2024-09-20T20:31:38.391Z"
   },
   {
    "duration": 11,
    "start_time": "2024-09-20T20:31:38.562Z"
   },
   {
    "duration": 11,
    "start_time": "2024-09-20T20:31:40.481Z"
   },
   {
    "duration": 11,
    "start_time": "2024-09-20T20:31:40.676Z"
   },
   {
    "duration": 15,
    "start_time": "2024-09-20T20:31:41.077Z"
   },
   {
    "duration": 12,
    "start_time": "2024-09-20T20:31:41.274Z"
   },
   {
    "duration": 10,
    "start_time": "2024-09-20T20:31:43.275Z"
   },
   {
    "duration": 5,
    "start_time": "2024-09-20T20:31:43.505Z"
   },
   {
    "duration": 15,
    "start_time": "2024-09-20T20:31:45.407Z"
   },
   {
    "duration": 1929,
    "start_time": "2024-09-20T20:31:46.017Z"
   },
   {
    "duration": 103,
    "start_time": "2024-09-20T20:31:48.391Z"
   },
   {
    "duration": 190,
    "start_time": "2024-09-20T20:31:48.582Z"
   },
   {
    "duration": 4,
    "start_time": "2024-09-20T20:31:49.014Z"
   },
   {
    "duration": 101,
    "start_time": "2024-09-20T20:31:49.224Z"
   },
   {
    "duration": 193,
    "start_time": "2024-09-20T20:31:50.046Z"
   },
   {
    "duration": 115,
    "start_time": "2024-09-20T20:31:50.241Z"
   },
   {
    "duration": 200,
    "start_time": "2024-09-20T20:31:53.307Z"
   },
   {
    "duration": 159,
    "start_time": "2024-09-20T20:31:53.514Z"
   },
   {
    "duration": 120,
    "start_time": "2024-09-20T20:31:54.840Z"
   },
   {
    "duration": 188,
    "start_time": "2024-09-20T20:31:55.078Z"
   },
   {
    "duration": 101,
    "start_time": "2024-09-20T20:31:57.813Z"
   },
   {
    "duration": 6,
    "start_time": "2024-09-20T20:32:02.938Z"
   },
   {
    "duration": 623,
    "start_time": "2024-09-20T20:32:47.334Z"
   },
   {
    "duration": 156,
    "start_time": "2024-09-20T20:32:47.959Z"
   },
   {
    "duration": 11,
    "start_time": "2024-09-20T20:32:48.117Z"
   },
   {
    "duration": 6,
    "start_time": "2024-09-20T20:32:48.131Z"
   },
   {
    "duration": 7,
    "start_time": "2024-09-20T20:32:48.139Z"
   },
   {
    "duration": 5,
    "start_time": "2024-09-20T20:32:48.148Z"
   },
   {
    "duration": 3,
    "start_time": "2024-09-20T20:32:48.155Z"
   },
   {
    "duration": 6,
    "start_time": "2024-09-20T20:32:48.160Z"
   },
   {
    "duration": 15,
    "start_time": "2024-09-20T20:32:48.169Z"
   },
   {
    "duration": 11,
    "start_time": "2024-09-20T20:32:48.224Z"
   },
   {
    "duration": 20,
    "start_time": "2024-09-20T20:32:48.236Z"
   },
   {
    "duration": 9,
    "start_time": "2024-09-20T20:32:48.257Z"
   },
   {
    "duration": 9,
    "start_time": "2024-09-20T20:32:48.267Z"
   },
   {
    "duration": 12,
    "start_time": "2024-09-20T20:32:48.277Z"
   },
   {
    "duration": 5,
    "start_time": "2024-09-20T20:32:48.291Z"
   },
   {
    "duration": 37,
    "start_time": "2024-09-20T20:32:48.298Z"
   },
   {
    "duration": 5,
    "start_time": "2024-09-20T20:32:48.337Z"
   },
   {
    "duration": 6,
    "start_time": "2024-09-20T20:32:48.343Z"
   },
   {
    "duration": 15,
    "start_time": "2024-09-20T20:32:48.351Z"
   },
   {
    "duration": 6,
    "start_time": "2024-09-20T20:32:48.367Z"
   },
   {
    "duration": 15,
    "start_time": "2024-09-20T20:32:48.374Z"
   },
   {
    "duration": 8,
    "start_time": "2024-09-20T20:32:48.424Z"
   },
   {
    "duration": 8,
    "start_time": "2024-09-20T20:32:48.434Z"
   },
   {
    "duration": 4,
    "start_time": "2024-09-20T20:32:48.443Z"
   },
   {
    "duration": 17,
    "start_time": "2024-09-20T20:32:48.449Z"
   },
   {
    "duration": 11,
    "start_time": "2024-09-20T20:32:48.468Z"
   },
   {
    "duration": 9,
    "start_time": "2024-09-20T20:32:48.481Z"
   },
   {
    "duration": 11,
    "start_time": "2024-09-20T20:32:48.526Z"
   },
   {
    "duration": 14,
    "start_time": "2024-09-20T20:32:48.538Z"
   },
   {
    "duration": 11,
    "start_time": "2024-09-20T20:32:48.554Z"
   },
   {
    "duration": 11,
    "start_time": "2024-09-20T20:32:48.566Z"
   },
   {
    "duration": 4,
    "start_time": "2024-09-20T20:32:48.580Z"
   },
   {
    "duration": 43,
    "start_time": "2024-09-20T20:32:48.585Z"
   },
   {
    "duration": 229,
    "start_time": "2024-09-20T20:32:48.629Z"
   },
   {
    "duration": 112,
    "start_time": "2024-09-20T20:32:48.859Z"
   },
   {
    "duration": 198,
    "start_time": "2024-09-20T20:32:48.973Z"
   },
   {
    "duration": 3,
    "start_time": "2024-09-20T20:32:49.173Z"
   },
   {
    "duration": 110,
    "start_time": "2024-09-20T20:32:49.178Z"
   },
   {
    "duration": 251,
    "start_time": "2024-09-20T20:32:49.290Z"
   },
   {
    "duration": 109,
    "start_time": "2024-09-20T20:32:49.543Z"
   },
   {
    "duration": 222,
    "start_time": "2024-09-20T20:32:49.654Z"
   },
   {
    "duration": 118,
    "start_time": "2024-09-20T20:32:49.878Z"
   },
   {
    "duration": 131,
    "start_time": "2024-09-20T20:32:49.997Z"
   },
   {
    "duration": 206,
    "start_time": "2024-09-20T20:32:50.130Z"
   },
   {
    "duration": 105,
    "start_time": "2024-09-20T20:32:50.338Z"
   },
   {
    "duration": 5,
    "start_time": "2024-09-20T20:32:50.445Z"
   },
   {
    "duration": 2,
    "start_time": "2024-09-20T20:32:50.452Z"
   },
   {
    "duration": 13,
    "start_time": "2024-09-20T20:33:54.921Z"
   },
   {
    "duration": 4,
    "start_time": "2024-09-20T20:34:00.085Z"
   },
   {
    "duration": 16,
    "start_time": "2024-09-20T20:34:00.278Z"
   },
   {
    "duration": 2,
    "start_time": "2024-09-20T20:34:00.888Z"
   },
   {
    "duration": 94,
    "start_time": "2024-09-20T20:34:01.347Z"
   },
   {
    "duration": 188,
    "start_time": "2024-09-20T20:34:01.529Z"
   },
   {
    "duration": 3,
    "start_time": "2024-09-20T20:34:01.912Z"
   },
   {
    "duration": 96,
    "start_time": "2024-09-20T20:34:02.158Z"
   },
   {
    "duration": 192,
    "start_time": "2024-09-20T20:34:08.387Z"
   },
   {
    "duration": 174,
    "start_time": "2024-09-20T20:34:08.592Z"
   },
   {
    "duration": 200,
    "start_time": "2024-09-20T20:34:10.681Z"
   },
   {
    "duration": 115,
    "start_time": "2024-09-20T20:34:10.883Z"
   },
   {
    "duration": 135,
    "start_time": "2024-09-20T20:34:11.813Z"
   },
   {
    "duration": 182,
    "start_time": "2024-09-20T20:34:12.045Z"
   },
   {
    "duration": 103,
    "start_time": "2024-09-20T20:34:12.235Z"
   },
   {
    "duration": 7,
    "start_time": "2024-09-20T20:36:33.135Z"
   },
   {
    "duration": 228,
    "start_time": "2024-09-20T20:42:05.245Z"
   },
   {
    "duration": 6,
    "start_time": "2024-09-20T20:42:16.618Z"
   },
   {
    "duration": 593,
    "start_time": "2024-09-20T21:15:01.962Z"
   },
   {
    "duration": 160,
    "start_time": "2024-09-20T21:15:02.557Z"
   },
   {
    "duration": 10,
    "start_time": "2024-09-20T21:15:02.718Z"
   },
   {
    "duration": 5,
    "start_time": "2024-09-20T21:15:02.730Z"
   },
   {
    "duration": 7,
    "start_time": "2024-09-20T21:15:02.738Z"
   },
   {
    "duration": 6,
    "start_time": "2024-09-20T21:15:02.747Z"
   },
   {
    "duration": 3,
    "start_time": "2024-09-20T21:15:02.754Z"
   },
   {
    "duration": 5,
    "start_time": "2024-09-20T21:15:02.759Z"
   },
   {
    "duration": 14,
    "start_time": "2024-09-20T21:15:02.766Z"
   },
   {
    "duration": 43,
    "start_time": "2024-09-20T21:15:02.781Z"
   },
   {
    "duration": 20,
    "start_time": "2024-09-20T21:15:02.825Z"
   },
   {
    "duration": 9,
    "start_time": "2024-09-20T21:15:02.847Z"
   },
   {
    "duration": 8,
    "start_time": "2024-09-20T21:15:02.857Z"
   },
   {
    "duration": 11,
    "start_time": "2024-09-20T21:15:02.869Z"
   },
   {
    "duration": 4,
    "start_time": "2024-09-20T21:15:02.882Z"
   },
   {
    "duration": 44,
    "start_time": "2024-09-20T21:15:02.888Z"
   },
   {
    "duration": 5,
    "start_time": "2024-09-20T21:15:02.934Z"
   },
   {
    "duration": 6,
    "start_time": "2024-09-20T21:15:02.940Z"
   },
   {
    "duration": 13,
    "start_time": "2024-09-20T21:15:02.948Z"
   },
   {
    "duration": 6,
    "start_time": "2024-09-20T21:15:02.963Z"
   },
   {
    "duration": 14,
    "start_time": "2024-09-20T21:15:02.972Z"
   },
   {
    "duration": 39,
    "start_time": "2024-09-20T21:15:02.988Z"
   },
   {
    "duration": 8,
    "start_time": "2024-09-20T21:15:03.029Z"
   },
   {
    "duration": 5,
    "start_time": "2024-09-20T21:15:03.038Z"
   },
   {
    "duration": 16,
    "start_time": "2024-09-20T21:15:03.045Z"
   },
   {
    "duration": 13,
    "start_time": "2024-09-20T21:15:03.062Z"
   },
   {
    "duration": 11,
    "start_time": "2024-09-20T21:15:03.076Z"
   },
   {
    "duration": 43,
    "start_time": "2024-09-20T21:15:03.089Z"
   },
   {
    "duration": 14,
    "start_time": "2024-09-20T21:15:03.134Z"
   },
   {
    "duration": 13,
    "start_time": "2024-09-20T21:15:03.151Z"
   },
   {
    "duration": 12,
    "start_time": "2024-09-20T21:15:03.165Z"
   },
   {
    "duration": 5,
    "start_time": "2024-09-20T21:15:03.179Z"
   },
   {
    "duration": 41,
    "start_time": "2024-09-20T21:15:03.186Z"
   },
   {
    "duration": 212,
    "start_time": "2024-09-20T21:15:03.229Z"
   },
   {
    "duration": 110,
    "start_time": "2024-09-20T21:15:03.442Z"
   },
   {
    "duration": 196,
    "start_time": "2024-09-20T21:15:03.554Z"
   },
   {
    "duration": 4,
    "start_time": "2024-09-20T21:15:03.751Z"
   },
   {
    "duration": 118,
    "start_time": "2024-09-20T21:15:03.757Z"
   },
   {
    "duration": 248,
    "start_time": "2024-09-20T21:15:03.877Z"
   },
   {
    "duration": 116,
    "start_time": "2024-09-20T21:15:04.127Z"
   },
   {
    "duration": 212,
    "start_time": "2024-09-20T21:15:04.248Z"
   },
   {
    "duration": 117,
    "start_time": "2024-09-20T21:15:04.462Z"
   },
   {
    "duration": 118,
    "start_time": "2024-09-20T21:15:04.581Z"
   },
   {
    "duration": 196,
    "start_time": "2024-09-20T21:15:04.701Z"
   },
   {
    "duration": 109,
    "start_time": "2024-09-20T21:15:04.899Z"
   },
   {
    "duration": 13,
    "start_time": "2024-09-20T21:15:05.010Z"
   },
   {
    "duration": 5,
    "start_time": "2024-09-20T21:15:05.025Z"
   }
  ],
  "colab": {
   "provenance": []
  },
  "kernelspec": {
   "display_name": "venv",
   "language": "python",
   "name": "python3"
  },
  "language_info": {
   "codemirror_mode": {
    "name": "ipython",
    "version": 3
   },
   "file_extension": ".py",
   "mimetype": "text/x-python",
   "name": "python",
   "nbconvert_exporter": "python",
   "pygments_lexer": "ipython3",
   "version": "3.12.6"
  },
  "toc": {
   "base_numbering": 1,
   "nav_menu": {},
   "number_sections": true,
   "sideBar": true,
   "skip_h1_title": false,
   "title_cell": "Table of Contents",
   "title_sidebar": "Contents",
   "toc_cell": false,
   "toc_position": {
    "height": "calc(100% - 180px)",
    "left": "10px",
    "top": "150px",
    "width": "242.4px"
   },
   "toc_section_display": true,
   "toc_window_display": true
  }
 },
 "nbformat": 4,
 "nbformat_minor": 1
}
